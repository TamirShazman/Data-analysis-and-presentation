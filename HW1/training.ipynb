{
 "cells": [
  {
   "cell_type": "code",
   "execution_count": 1,
   "metadata": {},
   "outputs": [],
   "source": [
    "import pandas as pd\n",
    "import torch\n",
    "\n",
    "from models import LSTMNet, LSTMDataset, training"
   ]
  },
  {
   "cell_type": "code",
   "execution_count": 2,
   "metadata": {},
   "outputs": [],
   "source": [
    "training_data_path = 'train_data_with_na.pkl'\n",
    "test_data_path = 'test_data_with_na.pkl'"
   ]
  },
  {
   "cell_type": "code",
   "execution_count": 3,
   "metadata": {},
   "outputs": [
    {
     "name": "stderr",
     "output_type": "stream",
     "text": [
      "/tmp/ipykernel_492823/4105696014.py:5: FutureWarning: The default value of numeric_only in DataFrame.mean is deprecated. In a future version, it will default to False. In addition, specifying 'numeric_only=None' is deprecated. Select only valid columns or specify the value of numeric_only to silence this warning.\n",
      "  df_train = df_train.fillna(df_train.mean())\n",
      "/tmp/ipykernel_492823/4105696014.py:6: FutureWarning: The default value of numeric_only in DataFrame.mean is deprecated. In a future version, it will default to False. In addition, specifying 'numeric_only=None' is deprecated. Select only valid columns or specify the value of numeric_only to silence this warning.\n",
      "  df_test = df_test.fillna(df_train.mean())\n"
     ]
    }
   ],
   "source": [
    "# load the files\n",
    "df_train = pd.read_pickle(training_data_path)\n",
    "df_test = pd.read_pickle(test_data_path)\n",
    "#complete na values\n",
    "df_train = df_train.fillna(df_train.mean())\n",
    "df_test = df_test.fillna(df_train.mean())\n",
    "\n",
    "train_ds = LSTMDataset(df_train)\n",
    "test_ds = LSTMDataset(df_test)"
   ]
  },
  {
   "cell_type": "code",
   "execution_count": 4,
   "metadata": {},
   "outputs": [],
   "source": [
    "model_concat = LSTMNet(type='concat')\n",
    "# model_concat.load_state_dict(torch.load('/home/student/Data-analysis-and-presentation/HW1/weights/concat.pt'))\n",
    "model_add = LSTMNet(type='add')\n",
    "model_ignore_ts = LSTMNet(type='ignore_ts')"
   ]
  },
  {
   "cell_type": "code",
   "execution_count": 5,
   "metadata": {},
   "outputs": [
    {
     "name": "stdout",
     "output_type": "stream",
     "text": [
      "\n",
      " -- Epoch 0 --\n"
     ]
    },
    {
     "name": "stderr",
     "output_type": "stream",
     "text": [
      "train, loss: 0.0025 f1: 0.14:   2%|▏         | 427/20000 [00:12<09:38, 33.81it/s]\n"
     ]
    },
    {
     "ename": "KeyboardInterrupt",
     "evalue": "",
     "output_type": "error",
     "traceback": [
      "\u001b[0;31m---------------------------------------------------------------------------\u001b[0m",
      "\u001b[0;31mKeyboardInterrupt\u001b[0m                         Traceback (most recent call last)",
      "Cell \u001b[0;32mIn[5], line 1\u001b[0m\n\u001b[0;32m----> 1\u001b[0m training(train_ds,\n\u001b[1;32m      2\u001b[0m              test_ds,\n\u001b[1;32m      3\u001b[0m              model_concat,\n\u001b[1;32m      4\u001b[0m              \u001b[39m'\u001b[39m\u001b[39mconcat\u001b[39m\u001b[39m'\u001b[39m,\n\u001b[1;32m      5\u001b[0m              \u001b[39m'\u001b[39m\u001b[39mconcat\u001b[39m\u001b[39m'\u001b[39m,\n\u001b[1;32m      6\u001b[0m              epochs\u001b[39m=\u001b[39m\u001b[39m10\u001b[39m,\n\u001b[1;32m      7\u001b[0m              early_stop\u001b[39m=\u001b[39m\u001b[39m5\u001b[39m,\n\u001b[1;32m      8\u001b[0m )\n",
      "File \u001b[0;32m~/Data-analysis-and-presentation/HW1/models.py:251\u001b[0m, in \u001b[0;36mtraining\u001b[0;34m(training_ds, val_ds, model, save_checkpoint_path, graph_name, epochs, early_stop)\u001b[0m\n\u001b[1;32m    249\u001b[0m \u001b[39mfor\u001b[39;00m epoch \u001b[39min\u001b[39;00m \u001b[39mrange\u001b[39m(epochs):\n\u001b[1;32m    250\u001b[0m     \u001b[39mprint\u001b[39m(\u001b[39mf\u001b[39m\u001b[39m\"\u001b[39m\u001b[39m\\n\u001b[39;00m\u001b[39m -- Epoch \u001b[39m\u001b[39m{\u001b[39;00mepoch\u001b[39m}\u001b[39;00m\u001b[39m --\u001b[39m\u001b[39m\"\u001b[39m)\n\u001b[0;32m--> 251\u001b[0m     train_val_loss, train_val_f1 \u001b[39m=\u001b[39m train_epoch(model, device, optimizer, training_dl, val_dl)\n\u001b[1;32m    252\u001b[0m     \u001b[39mif\u001b[39;00m train_val_f1[\u001b[39m1\u001b[39m] \u001b[39m>\u001b[39m best_f1:\n\u001b[1;32m    253\u001b[0m         torch\u001b[39m.\u001b[39msave(model\u001b[39m.\u001b[39mstate_dict(), \u001b[39mf\u001b[39m\u001b[39m'\u001b[39m\u001b[39m/home/student/Data-analysis-and-presentation/HW1/weights/\u001b[39m\u001b[39m{\u001b[39;00msave_checkpoint_path\u001b[39m}\u001b[39;00m\u001b[39m.pt\u001b[39m\u001b[39m'\u001b[39m)\n",
      "File \u001b[0;32m~/Data-analysis-and-presentation/HW1/models.py:170\u001b[0m, in \u001b[0;36mtrain_epoch\u001b[0;34m(model, device, optimizer, training_dl, val_dl, batch_size)\u001b[0m\n\u001b[1;32m    168\u001b[0m y_pred \u001b[39m=\u001b[39m torch\u001b[39m.\u001b[39margmax(y_prob)\n\u001b[1;32m    169\u001b[0m loss \u001b[39m=\u001b[39m focal_loss(model_output, y_gt, alpha\u001b[39m=\u001b[39m\u001b[39m0.5\u001b[39m, gamma\u001b[39m=\u001b[39m\u001b[39m2.0\u001b[39m,) \u001b[39m/\u001b[39m batch_size\n\u001b[0;32m--> 170\u001b[0m loss\u001b[39m.\u001b[39mbackward()\n\u001b[1;32m    172\u001b[0m \u001b[39mif\u001b[39;00m (i \u001b[39m+\u001b[39m \u001b[39m1\u001b[39m) \u001b[39m%\u001b[39m batch_size \u001b[39m==\u001b[39m \u001b[39m0\u001b[39m \u001b[39mor\u001b[39;00m i \u001b[39m==\u001b[39m \u001b[39mlen\u001b[39m(dl):\n\u001b[1;32m    173\u001b[0m     optimizer\u001b[39m.\u001b[39mstep()\n",
      "File \u001b[0;32m~/.conda/envs/HW1/lib/python3.11/site-packages/torch/_tensor.py:488\u001b[0m, in \u001b[0;36mTensor.backward\u001b[0;34m(self, gradient, retain_graph, create_graph, inputs)\u001b[0m\n\u001b[1;32m    478\u001b[0m \u001b[39mif\u001b[39;00m has_torch_function_unary(\u001b[39mself\u001b[39m):\n\u001b[1;32m    479\u001b[0m     \u001b[39mreturn\u001b[39;00m handle_torch_function(\n\u001b[1;32m    480\u001b[0m         Tensor\u001b[39m.\u001b[39mbackward,\n\u001b[1;32m    481\u001b[0m         (\u001b[39mself\u001b[39m,),\n\u001b[0;32m   (...)\u001b[0m\n\u001b[1;32m    486\u001b[0m         inputs\u001b[39m=\u001b[39minputs,\n\u001b[1;32m    487\u001b[0m     )\n\u001b[0;32m--> 488\u001b[0m torch\u001b[39m.\u001b[39mautograd\u001b[39m.\u001b[39mbackward(\n\u001b[1;32m    489\u001b[0m     \u001b[39mself\u001b[39m, gradient, retain_graph, create_graph, inputs\u001b[39m=\u001b[39minputs\n\u001b[1;32m    490\u001b[0m )\n",
      "File \u001b[0;32m~/.conda/envs/HW1/lib/python3.11/site-packages/torch/autograd/__init__.py:197\u001b[0m, in \u001b[0;36mbackward\u001b[0;34m(tensors, grad_tensors, retain_graph, create_graph, grad_variables, inputs)\u001b[0m\n\u001b[1;32m    192\u001b[0m     retain_graph \u001b[39m=\u001b[39m create_graph\n\u001b[1;32m    194\u001b[0m \u001b[39m# The reason we repeat same the comment below is that\u001b[39;00m\n\u001b[1;32m    195\u001b[0m \u001b[39m# some Python versions print out the first line of a multi-line function\u001b[39;00m\n\u001b[1;32m    196\u001b[0m \u001b[39m# calls in the traceback and some print out the last line\u001b[39;00m\n\u001b[0;32m--> 197\u001b[0m Variable\u001b[39m.\u001b[39m_execution_engine\u001b[39m.\u001b[39mrun_backward(  \u001b[39m# Calls into the C++ engine to run the backward pass\u001b[39;00m\n\u001b[1;32m    198\u001b[0m     tensors, grad_tensors_, retain_graph, create_graph, inputs,\n\u001b[1;32m    199\u001b[0m     allow_unreachable\u001b[39m=\u001b[39m\u001b[39mTrue\u001b[39;00m, accumulate_grad\u001b[39m=\u001b[39m\u001b[39mTrue\u001b[39;00m)\n",
      "\u001b[0;31mKeyboardInterrupt\u001b[0m: "
     ]
    }
   ],
   "source": [
    "training(train_ds,\n",
    "             test_ds,\n",
    "             model_concat,\n",
    "             'concat',\n",
    "             'concat',\n",
    "             epochs=10,\n",
    "             early_stop=5,\n",
    ")"
   ]
  },
  {
   "cell_type": "code",
   "execution_count": 7,
   "metadata": {},
   "outputs": [
    {
     "name": "stdout",
     "output_type": "stream",
     "text": [
      "\n",
      " -- Epoch 0 --\n"
     ]
    },
    {
     "name": "stderr",
     "output_type": "stream",
     "text": [
      "train, loss: 0.0013 f1: 0.19: 100%|██████████| 20000/20000 [11:50<00:00, 28.17it/s]\n",
      "val, loss: 0.0005 f1: 0.25: 100%|██████████| 10000/10000 [01:58<00:00, 84.71it/s]\n"
     ]
    },
    {
     "name": "stdout",
     "output_type": "stream",
     "text": [
      "\n",
      " -- Epoch 1 --\n"
     ]
    },
    {
     "name": "stderr",
     "output_type": "stream",
     "text": [
      "train, loss: 0.0004 f1: 0.40: 100%|██████████| 20000/20000 [11:42<00:00, 28.45it/s]\n",
      "val, loss: 0.0004 f1: 0.44: 100%|██████████| 10000/10000 [01:58<00:00, 84.54it/s]\n"
     ]
    },
    {
     "name": "stdout",
     "output_type": "stream",
     "text": [
      "\n",
      " -- Epoch 2 --\n"
     ]
    },
    {
     "name": "stderr",
     "output_type": "stream",
     "text": [
      "train, loss: 0.0004 f1: 0.45: 100%|██████████| 20000/20000 [11:45<00:00, 28.33it/s]\n",
      "val, loss: 0.0004 f1: 0.45: 100%|██████████| 10000/10000 [01:59<00:00, 83.88it/s]\n"
     ]
    },
    {
     "name": "stdout",
     "output_type": "stream",
     "text": [
      "\n",
      " -- Epoch 3 --\n"
     ]
    },
    {
     "name": "stderr",
     "output_type": "stream",
     "text": [
      "train, loss: 0.0004 f1: 0.46: 100%|██████████| 20000/20000 [11:53<00:00, 28.01it/s]\n",
      "val, loss: 0.0004 f1: 0.44: 100%|██████████| 10000/10000 [01:58<00:00, 84.10it/s]\n"
     ]
    },
    {
     "name": "stdout",
     "output_type": "stream",
     "text": [
      "\n",
      " -- Epoch 4 --\n"
     ]
    },
    {
     "name": "stderr",
     "output_type": "stream",
     "text": [
      "train, loss: 0.0004 f1: 0.46: 100%|██████████| 20000/20000 [12:39<00:00, 26.33it/s]\n",
      "val, loss: 0.0004 f1: 0.45: 100%|██████████| 10000/10000 [02:01<00:00, 82.39it/s]\n"
     ]
    },
    {
     "name": "stdout",
     "output_type": "stream",
     "text": [
      "\n",
      " -- Epoch 5 --\n"
     ]
    },
    {
     "name": "stderr",
     "output_type": "stream",
     "text": [
      "train, loss: 0.0004 f1: 0.46: 100%|██████████| 20000/20000 [12:19<00:00, 27.05it/s]\n",
      "val, loss: 0.0004 f1: 0.46: 100%|██████████| 10000/10000 [01:59<00:00, 83.75it/s]\n"
     ]
    },
    {
     "name": "stdout",
     "output_type": "stream",
     "text": [
      "\n",
      " -- Epoch 6 --\n"
     ]
    },
    {
     "name": "stderr",
     "output_type": "stream",
     "text": [
      "train, loss: 0.0004 f1: 0.47: 100%|██████████| 20000/20000 [11:44<00:00, 28.40it/s]\n",
      "val, loss: 0.0004 f1: 0.45: 100%|██████████| 10000/10000 [01:58<00:00, 84.29it/s]\n"
     ]
    },
    {
     "name": "stdout",
     "output_type": "stream",
     "text": [
      "\n",
      " -- Epoch 7 --\n"
     ]
    },
    {
     "name": "stderr",
     "output_type": "stream",
     "text": [
      "train, loss: 0.0004 f1: 0.47: 100%|██████████| 20000/20000 [11:45<00:00, 28.34it/s]\n",
      "val, loss: 0.0004 f1: 0.44: 100%|██████████| 10000/10000 [01:58<00:00, 84.10it/s]\n"
     ]
    },
    {
     "name": "stdout",
     "output_type": "stream",
     "text": [
      "\n",
      " -- Epoch 8 --\n"
     ]
    },
    {
     "name": "stderr",
     "output_type": "stream",
     "text": [
      "train, loss: 0.0004 f1: 0.47: 100%|██████████| 20000/20000 [11:49<00:00, 28.18it/s]\n",
      "val, loss: 0.0004 f1: 0.45: 100%|██████████| 10000/10000 [01:58<00:00, 84.10it/s]\n"
     ]
    },
    {
     "name": "stdout",
     "output_type": "stream",
     "text": [
      "\n",
      " -- Epoch 9 --\n"
     ]
    },
    {
     "name": "stderr",
     "output_type": "stream",
     "text": [
      "train, loss: 0.0004 f1: 0.48: 100%|██████████| 20000/20000 [11:43<00:00, 28.42it/s]\n",
      "val, loss: 0.0004 f1: 0.45: 100%|██████████| 10000/10000 [02:00<00:00, 83.29it/s]\n"
     ]
    }
   ],
   "source": [
    "training(train_ds,\n",
    "             test_ds,\n",
    "             model_add,\n",
    "             'add',\n",
    "             'add',\n",
    "             epochs=10,\n",
    "             early_stop=5,\n",
    ")"
   ]
  },
  {
   "cell_type": "code",
   "execution_count": 8,
   "metadata": {},
   "outputs": [
    {
     "name": "stdout",
     "output_type": "stream",
     "text": [
      "\n",
      " -- Epoch 0 --\n"
     ]
    },
    {
     "name": "stderr",
     "output_type": "stream",
     "text": [
      "train, loss: 0.0016 f1: 0.10: 100%|██████████| 20000/20000 [06:42<00:00, 49.66it/s]\n",
      "val, loss: 0.0008 f1: 0.11: 100%|██████████| 10000/10000 [01:58<00:00, 84.70it/s]\n"
     ]
    },
    {
     "name": "stdout",
     "output_type": "stream",
     "text": [
      "\n",
      " -- Epoch 1 --\n"
     ]
    },
    {
     "name": "stderr",
     "output_type": "stream",
     "text": [
      "train, loss: 0.0007 f1: 0.06: 100%|██████████| 20000/20000 [06:43<00:00, 49.59it/s]\n",
      "val, loss: 0.0006 f1: 0.03: 100%|██████████| 10000/10000 [01:58<00:00, 84.17it/s]\n"
     ]
    },
    {
     "name": "stdout",
     "output_type": "stream",
     "text": [
      "\n",
      " -- Epoch 2 --\n"
     ]
    },
    {
     "name": "stderr",
     "output_type": "stream",
     "text": [
      "train, loss: 0.0006 f1: 0.04: 100%|██████████| 20000/20000 [06:25<00:00, 51.91it/s]\n",
      "val, loss: 0.0006 f1: 0.08: 100%|██████████| 10000/10000 [01:59<00:00, 83.86it/s]\n"
     ]
    },
    {
     "name": "stdout",
     "output_type": "stream",
     "text": [
      "\n",
      " -- Epoch 3 --\n"
     ]
    },
    {
     "name": "stderr",
     "output_type": "stream",
     "text": [
      "train, loss: 0.0005 f1: 0.05: 100%|██████████| 20000/20000 [06:22<00:00, 52.23it/s]\n",
      "val, loss: 0.0005 f1: 0.07: 100%|██████████| 10000/10000 [02:03<00:00, 81.23it/s]\n"
     ]
    },
    {
     "name": "stdout",
     "output_type": "stream",
     "text": [
      "\n",
      " -- Epoch 4 --\n"
     ]
    },
    {
     "name": "stderr",
     "output_type": "stream",
     "text": [
      "train, loss: 0.0005 f1: 0.05: 100%|██████████| 20000/20000 [06:31<00:00, 51.04it/s]\n",
      "val, loss: 0.0005 f1: 0.04: 100%|██████████| 10000/10000 [01:59<00:00, 83.59it/s]\n"
     ]
    },
    {
     "name": "stdout",
     "output_type": "stream",
     "text": [
      "\n",
      " -- Epoch 5 --\n"
     ]
    },
    {
     "name": "stderr",
     "output_type": "stream",
     "text": [
      "train, loss: 0.0005 f1: 0.04: 100%|██████████| 20000/20000 [06:34<00:00, 50.72it/s]\n",
      "val, loss: 0.0005 f1: 0.04: 100%|██████████| 10000/10000 [01:59<00:00, 84.01it/s]\n"
     ]
    },
    {
     "name": "stdout",
     "output_type": "stream",
     "text": [
      "\n",
      " -- Epoch 6 --\n"
     ]
    },
    {
     "name": "stderr",
     "output_type": "stream",
     "text": [
      "train, loss: 0.0005 f1: 0.05: 100%|██████████| 20000/20000 [06:41<00:00, 49.77it/s]\n",
      "val, loss: 0.0005 f1: 0.05: 100%|██████████| 10000/10000 [02:00<00:00, 83.18it/s]\n"
     ]
    },
    {
     "name": "stdout",
     "output_type": "stream",
     "text": [
      "\n",
      " -- Epoch 7 --\n"
     ]
    },
    {
     "name": "stderr",
     "output_type": "stream",
     "text": [
      "train, loss: 0.0005 f1: 0.05: 100%|██████████| 20000/20000 [06:36<00:00, 50.48it/s]\n",
      "val, loss: 0.0005 f1: 0.04: 100%|██████████| 10000/10000 [02:01<00:00, 82.43it/s]\n"
     ]
    },
    {
     "name": "stdout",
     "output_type": "stream",
     "text": [
      "\n",
      " -- Epoch 8 --\n"
     ]
    },
    {
     "name": "stderr",
     "output_type": "stream",
     "text": [
      "train, loss: 0.0005 f1: 0.05: 100%|██████████| 20000/20000 [06:30<00:00, 51.19it/s]\n",
      "val, loss: 0.0005 f1: 0.02: 100%|██████████| 10000/10000 [01:59<00:00, 83.64it/s]\n"
     ]
    },
    {
     "name": "stdout",
     "output_type": "stream",
     "text": [
      "\n",
      " -- Epoch 9 --\n"
     ]
    },
    {
     "name": "stderr",
     "output_type": "stream",
     "text": [
      "train, loss: 0.0005 f1: 0.07: 100%|██████████| 20000/20000 [06:28<00:00, 51.51it/s]\n",
      "val, loss: 0.0005 f1: 0.05: 100%|██████████| 10000/10000 [01:59<00:00, 83.49it/s]\n"
     ]
    }
   ],
   "source": [
    "training(train_ds,\n",
    "             test_ds,\n",
    "             model_ignore_ts,\n",
    "             'ignore_ts',\n",
    "             'ignore_ts',\n",
    "             epochs=10,\n",
    "             early_stop=5,\n",
    ")"
   ]
  }
 ],
 "metadata": {
  "kernelspec": {
   "display_name": "HW1",
   "language": "python",
   "name": "python3"
  },
  "language_info": {
   "codemirror_mode": {
    "name": "ipython",
    "version": 3
   },
   "file_extension": ".py",
   "mimetype": "text/x-python",
   "name": "python",
   "nbconvert_exporter": "python",
   "pygments_lexer": "ipython3",
   "version": "3.11.3"
  },
  "orig_nbformat": 4
 },
 "nbformat": 4,
 "nbformat_minor": 2
}
