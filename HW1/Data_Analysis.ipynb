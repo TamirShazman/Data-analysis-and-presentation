{
 "cells": [
  {
   "attachments": {},
   "cell_type": "markdown",
   "metadata": {},
   "source": [
    "## Feature \n",
    "\n",
    "1. "
   ]
  },
  {
   "attachments": {},
   "cell_type": "markdown",
   "metadata": {},
   "source": [
    "Questions that interest us in our analysis\n",
    "1. What features have are often null? Are there patterns that can be identified and associated with our target feature\n",
    "2. What is the propensity of Sepsis within the train population?\n",
    "    1. How is that affected by demographic/contextual factors? (Severe Sepsis has been found to be more prevelant in male patients. See ncbi.nlm.nih.gov/pmc/articles/PMC3916365/) We will check these factors using hypothesis testing\n",
    "3. What is the correlation between feature values and sepsis? Both for continuous (for which we will use unadjusted CI) and for discrete (Pearson's Chi squared testing)"
   ]
  },
  {
   "cell_type": "code",
   "execution_count": 2,
   "metadata": {},
   "outputs": [],
   "source": [
    "from glob import glob\n",
    "import pandas as pd\n",
    "import matplotlib.pyplot as plt\n",
    "import seaborn as sns\n",
    "import os\n",
    "import numpy as np\n",
    "\n",
    "from scipy.stats import chi2_contingency"
   ]
  },
  {
   "cell_type": "code",
   "execution_count": 3,
   "metadata": {},
   "outputs": [],
   "source": [
    "train_dir = '/home/student/Data-analysis-and-presentation/HW1/data/train'"
   ]
  },
  {
   "attachments": {},
   "cell_type": "markdown",
   "metadata": {},
   "source": [
    "We will begin with a basic examination of the overal structure of the data"
   ]
  },
  {
   "attachments": {},
   "cell_type": "markdown",
   "metadata": {},
   "source": [
    "We will note that we have 40 features and 1 label"
   ]
  },
  {
   "cell_type": "code",
   "execution_count": 23,
   "metadata": {},
   "outputs": [
    {
     "name": "stdout",
     "output_type": "stream",
     "text": [
      "(9, 41)\n"
     ]
    },
    {
     "data": {
      "text/html": [
       "<div>\n",
       "<style scoped>\n",
       "    .dataframe tbody tr th:only-of-type {\n",
       "        vertical-align: middle;\n",
       "    }\n",
       "\n",
       "    .dataframe tbody tr th {\n",
       "        vertical-align: top;\n",
       "    }\n",
       "\n",
       "    .dataframe thead th {\n",
       "        text-align: right;\n",
       "    }\n",
       "</style>\n",
       "<table border=\"1\" class=\"dataframe\">\n",
       "  <thead>\n",
       "    <tr style=\"text-align: right;\">\n",
       "      <th></th>\n",
       "      <th>HR</th>\n",
       "      <th>O2Sat</th>\n",
       "      <th>Temp</th>\n",
       "      <th>SBP</th>\n",
       "      <th>MAP</th>\n",
       "      <th>DBP</th>\n",
       "      <th>Resp</th>\n",
       "      <th>EtCO2</th>\n",
       "      <th>BaseExcess</th>\n",
       "      <th>HCO3</th>\n",
       "      <th>...</th>\n",
       "      <th>WBC</th>\n",
       "      <th>Fibrinogen</th>\n",
       "      <th>Platelets</th>\n",
       "      <th>Age</th>\n",
       "      <th>Gender</th>\n",
       "      <th>Unit1</th>\n",
       "      <th>Unit2</th>\n",
       "      <th>HospAdmTime</th>\n",
       "      <th>ICULOS</th>\n",
       "      <th>SepsisLabel</th>\n",
       "    </tr>\n",
       "  </thead>\n",
       "  <tbody>\n",
       "    <tr>\n",
       "      <th>0</th>\n",
       "      <td>79.5</td>\n",
       "      <td>100</td>\n",
       "      <td>36.56</td>\n",
       "      <td>159</td>\n",
       "      <td>112</td>\n",
       "      <td>77</td>\n",
       "      <td>15.5</td>\n",
       "      <td>NaN</td>\n",
       "      <td>5.0</td>\n",
       "      <td>NaN</td>\n",
       "      <td>...</td>\n",
       "      <td>NaN</td>\n",
       "      <td>NaN</td>\n",
       "      <td>NaN</td>\n",
       "      <td>79.09</td>\n",
       "      <td>1</td>\n",
       "      <td>NaN</td>\n",
       "      <td>NaN</td>\n",
       "      <td>-0.03</td>\n",
       "      <td>3</td>\n",
       "      <td>1</td>\n",
       "    </tr>\n",
       "    <tr>\n",
       "      <th>1</th>\n",
       "      <td>89.0</td>\n",
       "      <td>100</td>\n",
       "      <td>NaN</td>\n",
       "      <td>128</td>\n",
       "      <td>78</td>\n",
       "      <td>55</td>\n",
       "      <td>20.0</td>\n",
       "      <td>NaN</td>\n",
       "      <td>5.0</td>\n",
       "      <td>NaN</td>\n",
       "      <td>...</td>\n",
       "      <td>NaN</td>\n",
       "      <td>NaN</td>\n",
       "      <td>NaN</td>\n",
       "      <td>79.09</td>\n",
       "      <td>1</td>\n",
       "      <td>NaN</td>\n",
       "      <td>NaN</td>\n",
       "      <td>-0.03</td>\n",
       "      <td>4</td>\n",
       "      <td>1</td>\n",
       "    </tr>\n",
       "    <tr>\n",
       "      <th>2</th>\n",
       "      <td>89.0</td>\n",
       "      <td>100</td>\n",
       "      <td>37.44</td>\n",
       "      <td>144</td>\n",
       "      <td>87</td>\n",
       "      <td>60</td>\n",
       "      <td>20.0</td>\n",
       "      <td>NaN</td>\n",
       "      <td>NaN</td>\n",
       "      <td>30.0</td>\n",
       "      <td>...</td>\n",
       "      <td>12.7</td>\n",
       "      <td>NaN</td>\n",
       "      <td>141.0</td>\n",
       "      <td>79.09</td>\n",
       "      <td>1</td>\n",
       "      <td>NaN</td>\n",
       "      <td>NaN</td>\n",
       "      <td>-0.03</td>\n",
       "      <td>5</td>\n",
       "      <td>1</td>\n",
       "    </tr>\n",
       "    <tr>\n",
       "      <th>3</th>\n",
       "      <td>102.0</td>\n",
       "      <td>99</td>\n",
       "      <td>NaN</td>\n",
       "      <td>133</td>\n",
       "      <td>75</td>\n",
       "      <td>53</td>\n",
       "      <td>20.0</td>\n",
       "      <td>NaN</td>\n",
       "      <td>NaN</td>\n",
       "      <td>30.0</td>\n",
       "      <td>...</td>\n",
       "      <td>12.7</td>\n",
       "      <td>NaN</td>\n",
       "      <td>NaN</td>\n",
       "      <td>79.09</td>\n",
       "      <td>1</td>\n",
       "      <td>NaN</td>\n",
       "      <td>NaN</td>\n",
       "      <td>-0.03</td>\n",
       "      <td>6</td>\n",
       "      <td>1</td>\n",
       "    </tr>\n",
       "    <tr>\n",
       "      <th>4</th>\n",
       "      <td>106.0</td>\n",
       "      <td>100</td>\n",
       "      <td>NaN</td>\n",
       "      <td>138</td>\n",
       "      <td>72</td>\n",
       "      <td>52</td>\n",
       "      <td>20.0</td>\n",
       "      <td>NaN</td>\n",
       "      <td>NaN</td>\n",
       "      <td>NaN</td>\n",
       "      <td>...</td>\n",
       "      <td>NaN</td>\n",
       "      <td>NaN</td>\n",
       "      <td>NaN</td>\n",
       "      <td>79.09</td>\n",
       "      <td>1</td>\n",
       "      <td>NaN</td>\n",
       "      <td>NaN</td>\n",
       "      <td>-0.03</td>\n",
       "      <td>7</td>\n",
       "      <td>1</td>\n",
       "    </tr>\n",
       "  </tbody>\n",
       "</table>\n",
       "<p>5 rows × 41 columns</p>\n",
       "</div>"
      ],
      "text/plain": [
       "      HR  O2Sat   Temp  SBP  MAP  DBP  Resp  EtCO2  BaseExcess  HCO3  ...  \\\n",
       "0   79.5    100  36.56  159  112   77  15.5    NaN         5.0   NaN  ...   \n",
       "1   89.0    100    NaN  128   78   55  20.0    NaN         5.0   NaN  ...   \n",
       "2   89.0    100  37.44  144   87   60  20.0    NaN         NaN  30.0  ...   \n",
       "3  102.0     99    NaN  133   75   53  20.0    NaN         NaN  30.0  ...   \n",
       "4  106.0    100    NaN  138   72   52  20.0    NaN         NaN   NaN  ...   \n",
       "\n",
       "    WBC  Fibrinogen  Platelets    Age  Gender  Unit1  Unit2  HospAdmTime  \\\n",
       "0   NaN         NaN        NaN  79.09       1    NaN    NaN        -0.03   \n",
       "1   NaN         NaN        NaN  79.09       1    NaN    NaN        -0.03   \n",
       "2  12.7         NaN      141.0  79.09       1    NaN    NaN        -0.03   \n",
       "3  12.7         NaN        NaN  79.09       1    NaN    NaN        -0.03   \n",
       "4   NaN         NaN        NaN  79.09       1    NaN    NaN        -0.03   \n",
       "\n",
       "   ICULOS  SepsisLabel  \n",
       "0       3            1  \n",
       "1       4            1  \n",
       "2       5            1  \n",
       "3       6            1  \n",
       "4       7            1  \n",
       "\n",
       "[5 rows x 41 columns]"
      ]
     },
     "execution_count": 23,
     "metadata": {},
     "output_type": "execute_result"
    }
   ],
   "source": [
    "# example_df = pd.read_csv(train_dir + '/patient_14421.psv',sep='|') # has sepsis\n",
    "example_df = pd.read_csv(train_dir + '/patient_17558.psv',sep='|')\n",
    "print(example_df.shape)\n",
    "example_df.head()"
   ]
  },
  {
   "cell_type": "code",
   "execution_count": 22,
   "metadata": {},
   "outputs": [
    {
     "data": {
      "text/plain": [
       "8"
      ]
     },
     "execution_count": 22,
     "metadata": {},
     "output_type": "execute_result"
    }
   ],
   "source": [
    "example_df.count() / example_df.shape[0]\n",
    "example_df['HR'].interpolate(method='linear').fillna(method='bfill')\n",
    "example_df.SepsisLabel.sum()"
   ]
  },
  {
   "attachments": {},
   "cell_type": "markdown",
   "metadata": {},
   "source": [
    "We note two demographic features, age and gender.\n",
    "We note 4 features that tell us about the patients medical circumstances, which unit (unit1 and unit2), when the patient was admitted (HospAdmTime) and how long the patient stayed (ICULOS)"
   ]
  },
  {
   "cell_type": "code",
   "execution_count": 26,
   "metadata": {},
   "outputs": [
    {
     "data": {
      "text/plain": [
       "Index(['HR', 'O2Sat', 'Temp', 'SBP', 'MAP', 'DBP', 'Resp', 'EtCO2',\n",
       "       'BaseExcess', 'HCO3', 'FiO2', 'pH', 'PaCO2', 'SaO2', 'AST', 'BUN',\n",
       "       'Alkalinephos', 'Calcium', 'Chloride', 'Creatinine', 'Bilirubin_direct',\n",
       "       'Glucose', 'Lactate', 'Magnesium', 'Phosphate', 'Potassium',\n",
       "       'Bilirubin_total', 'TroponinI', 'Hct', 'Hgb', 'PTT', 'WBC',\n",
       "       'Fibrinogen', 'Platelets', 'Age', 'Gender', 'Unit1', 'Unit2',\n",
       "       'HospAdmTime', 'ICULOS', 'SepsisLabel'],\n",
       "      dtype='object')"
      ]
     },
     "execution_count": 26,
     "metadata": {},
     "output_type": "execute_result"
    }
   ],
   "source": [
    "example_df.columns"
   ]
  },
  {
   "attachments": {},
   "cell_type": "markdown",
   "metadata": {},
   "source": [
    "We will note that most of our data seems to be continuous with 4 categorical features (the last categorical feature is the sepsis label)"
   ]
  },
  {
   "cell_type": "code",
   "execution_count": 7,
   "metadata": {},
   "outputs": [
    {
     "name": "stdout",
     "output_type": "stream",
     "text": [
      "float64\n",
      "36\n",
      "int64\n",
      "5\n"
     ]
    }
   ],
   "source": [
    "for data_type in example_df.dtypes.unique():\n",
    "    print(str(data_type))\n",
    "    print((example_df.dtypes == data_type).sum())"
   ]
  },
  {
   "attachments": {},
   "cell_type": "markdown",
   "metadata": {},
   "source": [
    "For further analysis, we will create dictionaries for the sepsis and non-sepsis population. We will run tests over these dictionaries."
   ]
  },
  {
   "cell_type": "code",
   "execution_count": 4,
   "metadata": {},
   "outputs": [],
   "source": [
    "sepsis_dict = dict()\n",
    "non_sepsis_dict = dict()"
   ]
  },
  {
   "cell_type": "code",
   "execution_count": 5,
   "metadata": {},
   "outputs": [],
   "source": [
    "\n",
    "for file in glob(train_dir + '/patient_*.psv'):\n",
    "    temp_df = pd.read_csv(file, sep='|')\n",
    "    # get patient ID\n",
    "    patient_ID = file[ file.find(\"_\")+1 : file.find(\".\") ]\n",
    "    if  temp_df.SepsisLabel.sum() > 0:\n",
    "        first_sepsis_row = temp_df.shape[0] - temp_df.SepsisLabel.sum()\n",
    "        sepsis_dict[patient_ID] = dict()\n",
    "        sepsis_dict[patient_ID]['age'] = temp_df.loc[0, 'Age']\n",
    "        sepsis_dict[patient_ID]['gender'] = temp_df.loc[0, 'Gender']\n",
    "        sepsis_dict[patient_ID]['unit'] = 1 if temp_df.loc[0, 'Unit1'] == 1 else 2 if temp_df.loc[0, 'Unit2'] == 1 else np.nan\n",
    "        sepsis_dict[patient_ID]['HospAdmTime'] = temp_df.loc[0, 'HospAdmTime']\n",
    "\n",
    "        sepsis_dict[patient_ID]['Sepsis ICULOS'] = temp_df.loc[first_sepsis_row, 'ICULOS']\n",
    "        sepsis_dict[patient_ID]['Final ICULOS'] = temp_df.loc[temp_df.shape[0]-1, 'ICULOS']\n",
    "\n",
    "        sepsis_dict[patient_ID]['Not Null Percentages'] = temp_df.iloc[:first_sepsis_row, :].count() / temp_df.iloc[:first_sepsis_row, :].shape[0]\n",
    "        sepsis_dict[patient_ID]['Means'] = temp_df.iloc[:first_sepsis_row, :].mean()[:-7]\n",
    "        sepsis_dict[patient_ID]['Vars'] = temp_df.iloc[:first_sepsis_row, :].var()[:-7]\n",
    "    else:\n",
    "        non_sepsis_dict[patient_ID] = dict()\n",
    "        non_sepsis_dict[patient_ID]['age'] = temp_df.loc[0, 'Age']\n",
    "        non_sepsis_dict[patient_ID]['gender'] = temp_df.loc[0, 'Gender']\n",
    "        non_sepsis_dict[patient_ID]['unit'] = 1 if temp_df.loc[0, 'Unit1'] == 1 else 2 if temp_df.loc[0, 'Unit2'] == 1 else np.nan\n",
    "        non_sepsis_dict[patient_ID]['HospAdmTime'] = temp_df.loc[0, 'HospAdmTime']\n",
    "        \n",
    "        non_sepsis_dict[patient_ID]['Final ICULOS'] = temp_df.loc[temp_df.shape[0]-1, 'ICULOS']\n",
    "\n",
    "        non_sepsis_dict[patient_ID]['Not Null Percentages'] = temp_df.count() / temp_df.shape[0]\n",
    "        non_sepsis_dict[patient_ID]['Means'] = temp_df.mean()[:-7]\n",
    "        non_sepsis_dict[patient_ID]['Vars'] = temp_df.var()[:-7]"
   ]
  },
  {
   "cell_type": "code",
   "execution_count": 7,
   "metadata": {},
   "outputs": [
    {
     "name": "stdout",
     "output_type": "stream",
     "text": [
      "Propensity: 0.07613666935700834\n",
      "Sepsis patients: 1415\n",
      "Patients with no record of sepsis: 18585\n",
      "Total cohort: 20000\n"
     ]
    }
   ],
   "source": [
    "print(f'Propensity: {len(sepsis_dict) / len(non_sepsis_dict)}')\n",
    "print(f'Sepsis patients: {len(sepsis_dict)}')\n",
    "print(f'Patients with no record of sepsis: {len(non_sepsis_dict)}')\n",
    "print(f'Total cohort: {len(sepsis_dict) + len(non_sepsis_dict)}')"
   ]
  },
  {
   "cell_type": "code",
   "execution_count": 6,
   "metadata": {},
   "outputs": [
    {
     "data": {
      "text/html": [
       "<div>\n",
       "<style scoped>\n",
       "    .dataframe tbody tr th:only-of-type {\n",
       "        vertical-align: middle;\n",
       "    }\n",
       "\n",
       "    .dataframe tbody tr th {\n",
       "        vertical-align: top;\n",
       "    }\n",
       "\n",
       "    .dataframe thead th {\n",
       "        text-align: right;\n",
       "    }\n",
       "</style>\n",
       "<table border=\"1\" class=\"dataframe\">\n",
       "  <thead>\n",
       "    <tr style=\"text-align: right;\">\n",
       "      <th></th>\n",
       "      <th>age</th>\n",
       "      <th>gender</th>\n",
       "      <th>unit</th>\n",
       "      <th>HospAdmTime</th>\n",
       "      <th>Sepsis ICULOS</th>\n",
       "      <th>Final ICULOS</th>\n",
       "      <th>Not Null Percentages</th>\n",
       "      <th>Means</th>\n",
       "      <th>Vars</th>\n",
       "      <th>Sepsis</th>\n",
       "    </tr>\n",
       "  </thead>\n",
       "  <tbody>\n",
       "    <tr>\n",
       "      <th>14421</th>\n",
       "      <td>53.35</td>\n",
       "      <td>1</td>\n",
       "      <td>NaN</td>\n",
       "      <td>-0.07</td>\n",
       "      <td>54.0</td>\n",
       "      <td>63</td>\n",
       "      <td>HR                  0.905660\n",
       "O2Sat            ...</td>\n",
       "      <td>HR                   83.906250\n",
       "O2Sat          ...</td>\n",
       "      <td>HR                   42.038896\n",
       "O2Sat          ...</td>\n",
       "      <td>1</td>\n",
       "    </tr>\n",
       "    <tr>\n",
       "      <th>17558</th>\n",
       "      <td>79.09</td>\n",
       "      <td>1</td>\n",
       "      <td>NaN</td>\n",
       "      <td>-0.03</td>\n",
       "      <td>3.0</td>\n",
       "      <td>11</td>\n",
       "      <td>HR                 NaN\n",
       "O2Sat              NaN\n",
       "...</td>\n",
       "      <td>HR                 NaN\n",
       "O2Sat              NaN\n",
       "...</td>\n",
       "      <td>HR                 NaN\n",
       "O2Sat              NaN\n",
       "...</td>\n",
       "      <td>1</td>\n",
       "    </tr>\n",
       "    <tr>\n",
       "      <th>1873</th>\n",
       "      <td>49.00</td>\n",
       "      <td>0</td>\n",
       "      <td>1.0</td>\n",
       "      <td>-70.18</td>\n",
       "      <td>1.0</td>\n",
       "      <td>8</td>\n",
       "      <td>HR                 NaN\n",
       "O2Sat              NaN\n",
       "...</td>\n",
       "      <td>HR                 NaN\n",
       "O2Sat              NaN\n",
       "...</td>\n",
       "      <td>HR                 NaN\n",
       "O2Sat              NaN\n",
       "...</td>\n",
       "      <td>1</td>\n",
       "    </tr>\n",
       "    <tr>\n",
       "      <th>14108</th>\n",
       "      <td>55.17</td>\n",
       "      <td>0</td>\n",
       "      <td>2.0</td>\n",
       "      <td>-0.02</td>\n",
       "      <td>13.0</td>\n",
       "      <td>22</td>\n",
       "      <td>HR                  1.000000\n",
       "O2Sat            ...</td>\n",
       "      <td>HR                   64.909091\n",
       "O2Sat          ...</td>\n",
       "      <td>HR                  21.240909\n",
       "O2Sat           ...</td>\n",
       "      <td>1</td>\n",
       "    </tr>\n",
       "    <tr>\n",
       "      <th>6739</th>\n",
       "      <td>60.00</td>\n",
       "      <td>0</td>\n",
       "      <td>2.0</td>\n",
       "      <td>-214.44</td>\n",
       "      <td>69.0</td>\n",
       "      <td>77</td>\n",
       "      <td>HR                  0.970588\n",
       "O2Sat            ...</td>\n",
       "      <td>HR                  109.772727\n",
       "O2Sat          ...</td>\n",
       "      <td>HR                   88.732168\n",
       "O2Sat          ...</td>\n",
       "      <td>1</td>\n",
       "    </tr>\n",
       "  </tbody>\n",
       "</table>\n",
       "</div>"
      ],
      "text/plain": [
       "         age  gender  unit  HospAdmTime  Sepsis ICULOS  Final ICULOS  \\\n",
       "14421  53.35       1   NaN        -0.07           54.0            63   \n",
       "17558  79.09       1   NaN        -0.03            3.0            11   \n",
       "1873   49.00       0   1.0       -70.18            1.0             8   \n",
       "14108  55.17       0   2.0        -0.02           13.0            22   \n",
       "6739   60.00       0   2.0      -214.44           69.0            77   \n",
       "\n",
       "                                    Not Null Percentages  \\\n",
       "14421  HR                  0.905660\n",
       "O2Sat            ...   \n",
       "17558  HR                 NaN\n",
       "O2Sat              NaN\n",
       "...   \n",
       "1873   HR                 NaN\n",
       "O2Sat              NaN\n",
       "...   \n",
       "14108  HR                  1.000000\n",
       "O2Sat            ...   \n",
       "6739   HR                  0.970588\n",
       "O2Sat            ...   \n",
       "\n",
       "                                                   Means  \\\n",
       "14421  HR                   83.906250\n",
       "O2Sat          ...   \n",
       "17558  HR                 NaN\n",
       "O2Sat              NaN\n",
       "...   \n",
       "1873   HR                 NaN\n",
       "O2Sat              NaN\n",
       "...   \n",
       "14108  HR                   64.909091\n",
       "O2Sat          ...   \n",
       "6739   HR                  109.772727\n",
       "O2Sat          ...   \n",
       "\n",
       "                                                    Vars  Sepsis  \n",
       "14421  HR                   42.038896\n",
       "O2Sat          ...       1  \n",
       "17558  HR                 NaN\n",
       "O2Sat              NaN\n",
       "...       1  \n",
       "1873   HR                 NaN\n",
       "O2Sat              NaN\n",
       "...       1  \n",
       "14108  HR                  21.240909\n",
       "O2Sat           ...       1  \n",
       "6739   HR                   88.732168\n",
       "O2Sat          ...       1  "
      ]
     },
     "execution_count": 6,
     "metadata": {},
     "output_type": "execute_result"
    }
   ],
   "source": [
    "sepsis_df = pd.DataFrame.from_dict(data=sepsis_dict, orient='index')\n",
    "sepsis_df['Sepsis'] = 1\n",
    "non_sepsis_df = pd.DataFrame.from_dict(data=non_sepsis_dict, orient='index')\n",
    "non_sepsis_df['Sepsis'] = 0\n",
    "all_df = pd.concat([sepsis_df, non_sepsis_df])\n",
    "all_df.head()"
   ]
  },
  {
   "cell_type": "code",
   "execution_count": 17,
   "metadata": {},
   "outputs": [
    {
     "data": {
      "text/html": [
       "<div>\n",
       "<style scoped>\n",
       "    .dataframe tbody tr th:only-of-type {\n",
       "        vertical-align: middle;\n",
       "    }\n",
       "\n",
       "    .dataframe tbody tr th {\n",
       "        vertical-align: top;\n",
       "    }\n",
       "\n",
       "    .dataframe thead th {\n",
       "        text-align: right;\n",
       "    }\n",
       "</style>\n",
       "<table border=\"1\" class=\"dataframe\">\n",
       "  <thead>\n",
       "    <tr style=\"text-align: right;\">\n",
       "      <th></th>\n",
       "      <th>age</th>\n",
       "      <th>gender</th>\n",
       "      <th>unit</th>\n",
       "      <th>HospAdmTime</th>\n",
       "      <th>Sepsis ICULOS</th>\n",
       "      <th>Final ICULOS</th>\n",
       "      <th>Sepsis</th>\n",
       "    </tr>\n",
       "  </thead>\n",
       "  <tbody>\n",
       "    <tr>\n",
       "      <th>count</th>\n",
       "      <td>20000.000000</td>\n",
       "      <td>20000.000000</td>\n",
       "      <td>12314.000000</td>\n",
       "      <td>20000.000000</td>\n",
       "      <td>1415.000000</td>\n",
       "      <td>20000.000000</td>\n",
       "      <td>20000.000000</td>\n",
       "    </tr>\n",
       "    <tr>\n",
       "      <th>mean</th>\n",
       "      <td>61.668052</td>\n",
       "      <td>0.555500</td>\n",
       "      <td>1.506497</td>\n",
       "      <td>-50.975196</td>\n",
       "      <td>50.504594</td>\n",
       "      <td>38.838650</td>\n",
       "      <td>0.070750</td>\n",
       "    </tr>\n",
       "    <tr>\n",
       "      <th>std</th>\n",
       "      <td>16.485956</td>\n",
       "      <td>0.496923</td>\n",
       "      <td>0.499978</td>\n",
       "      <td>140.077631</td>\n",
       "      <td>59.038631</td>\n",
       "      <td>22.200684</td>\n",
       "      <td>0.256413</td>\n",
       "    </tr>\n",
       "    <tr>\n",
       "      <th>min</th>\n",
       "      <td>15.000000</td>\n",
       "      <td>0.000000</td>\n",
       "      <td>1.000000</td>\n",
       "      <td>-5366.860000</td>\n",
       "      <td>1.000000</td>\n",
       "      <td>8.000000</td>\n",
       "      <td>0.000000</td>\n",
       "    </tr>\n",
       "    <tr>\n",
       "      <th>25%</th>\n",
       "      <td>51.000000</td>\n",
       "      <td>0.000000</td>\n",
       "      <td>1.000000</td>\n",
       "      <td>-42.565000</td>\n",
       "      <td>7.000000</td>\n",
       "      <td>24.000000</td>\n",
       "      <td>0.000000</td>\n",
       "    </tr>\n",
       "    <tr>\n",
       "      <th>50%</th>\n",
       "      <td>63.310000</td>\n",
       "      <td>1.000000</td>\n",
       "      <td>2.000000</td>\n",
       "      <td>-5.950000</td>\n",
       "      <td>29.000000</td>\n",
       "      <td>39.000000</td>\n",
       "      <td>0.000000</td>\n",
       "    </tr>\n",
       "    <tr>\n",
       "      <th>75%</th>\n",
       "      <td>74.000000</td>\n",
       "      <td>1.000000</td>\n",
       "      <td>2.000000</td>\n",
       "      <td>-0.040000</td>\n",
       "      <td>72.000000</td>\n",
       "      <td>47.000000</td>\n",
       "      <td>0.000000</td>\n",
       "    </tr>\n",
       "    <tr>\n",
       "      <th>max</th>\n",
       "      <td>100.000000</td>\n",
       "      <td>1.000000</td>\n",
       "      <td>2.000000</td>\n",
       "      <td>17.340000</td>\n",
       "      <td>331.000000</td>\n",
       "      <td>336.000000</td>\n",
       "      <td>1.000000</td>\n",
       "    </tr>\n",
       "  </tbody>\n",
       "</table>\n",
       "</div>"
      ],
      "text/plain": [
       "                age        gender          unit   HospAdmTime  Sepsis ICULOS  \\\n",
       "count  20000.000000  20000.000000  12314.000000  20000.000000    1415.000000   \n",
       "mean      61.668052      0.555500      1.506497    -50.975196      50.504594   \n",
       "std       16.485956      0.496923      0.499978    140.077631      59.038631   \n",
       "min       15.000000      0.000000      1.000000  -5366.860000       1.000000   \n",
       "25%       51.000000      0.000000      1.000000    -42.565000       7.000000   \n",
       "50%       63.310000      1.000000      2.000000     -5.950000      29.000000   \n",
       "75%       74.000000      1.000000      2.000000     -0.040000      72.000000   \n",
       "max      100.000000      1.000000      2.000000     17.340000     331.000000   \n",
       "\n",
       "       Final ICULOS        Sepsis  \n",
       "count  20000.000000  20000.000000  \n",
       "mean      38.838650      0.070750  \n",
       "std       22.200684      0.256413  \n",
       "min        8.000000      0.000000  \n",
       "25%       24.000000      0.000000  \n",
       "50%       39.000000      0.000000  \n",
       "75%       47.000000      0.000000  \n",
       "max      336.000000      1.000000  "
      ]
     },
     "execution_count": 17,
     "metadata": {},
     "output_type": "execute_result"
    }
   ],
   "source": [
    "all_df.describe()"
   ]
  },
  {
   "cell_type": "code",
   "execution_count": 18,
   "metadata": {},
   "outputs": [
    {
     "name": "stderr",
     "output_type": "stream",
     "text": [
      "/tmp/ipykernel_434012/3480145493.py:2: FutureWarning: The default value of numeric_only in DataFrame.mean is deprecated. In a future version, it will default to False. In addition, specifying 'numeric_only=None' is deprecated. Select only valid columns or specify the value of numeric_only to silence this warning.\n",
      "  sepsis_summary_table = sepsis_df.mean()\n",
      "/tmp/ipykernel_434012/3480145493.py:6: FutureWarning: The default value of numeric_only in DataFrame.mean is deprecated. In a future version, it will default to False. In addition, specifying 'numeric_only=None' is deprecated. Select only valid columns or specify the value of numeric_only to silence this warning.\n",
      "  non_sepsis_summary_table = non_sepsis_df.mean()\n"
     ]
    },
    {
     "data": {
      "text/html": [
       "<div>\n",
       "<style scoped>\n",
       "    .dataframe tbody tr th:only-of-type {\n",
       "        vertical-align: middle;\n",
       "    }\n",
       "\n",
       "    .dataframe tbody tr th {\n",
       "        vertical-align: top;\n",
       "    }\n",
       "\n",
       "    .dataframe thead th {\n",
       "        text-align: right;\n",
       "    }\n",
       "</style>\n",
       "<table border=\"1\" class=\"dataframe\">\n",
       "  <thead>\n",
       "    <tr style=\"text-align: right;\">\n",
       "      <th></th>\n",
       "      <th>age</th>\n",
       "      <th>gender</th>\n",
       "      <th>unit</th>\n",
       "      <th>HospAdmTime</th>\n",
       "      <th>Sepsis ICULOS</th>\n",
       "      <th>Final ICULOS</th>\n",
       "      <th>Sepsis</th>\n",
       "      <th>unit1</th>\n",
       "      <th>unit2</th>\n",
       "      <th>sepsis</th>\n",
       "    </tr>\n",
       "  </thead>\n",
       "  <tbody>\n",
       "    <tr>\n",
       "      <th>0</th>\n",
       "      <td>62.250940</td>\n",
       "      <td>0.580919</td>\n",
       "      <td>1.405405</td>\n",
       "      <td>-74.686587</td>\n",
       "      <td>50.504594</td>\n",
       "      <td>59.032509</td>\n",
       "      <td>1.0</td>\n",
       "      <td>0.326502</td>\n",
       "      <td>0.222615</td>\n",
       "      <td>1.0</td>\n",
       "    </tr>\n",
       "    <tr>\n",
       "      <th>1</th>\n",
       "      <td>61.623673</td>\n",
       "      <td>0.553565</td>\n",
       "      <td>1.513305</td>\n",
       "      <td>-49.169890</td>\n",
       "      <td>NaN</td>\n",
       "      <td>37.301157</td>\n",
       "      <td>0.0</td>\n",
       "      <td>0.302125</td>\n",
       "      <td>0.318644</td>\n",
       "      <td>0.0</td>\n",
       "    </tr>\n",
       "  </tbody>\n",
       "</table>\n",
       "</div>"
      ],
      "text/plain": [
       "         age    gender      unit  HospAdmTime  Sepsis ICULOS  Final ICULOS  \\\n",
       "0  62.250940  0.580919  1.405405   -74.686587      50.504594     59.032509   \n",
       "1  61.623673  0.553565  1.513305   -49.169890            NaN     37.301157   \n",
       "\n",
       "   Sepsis     unit1     unit2  sepsis  \n",
       "0     1.0  0.326502  0.222615     1.0  \n",
       "1     0.0  0.302125  0.318644     0.0  "
      ]
     },
     "execution_count": 18,
     "metadata": {},
     "output_type": "execute_result"
    }
   ],
   "source": [
    "sepsis_df.head()\n",
    "sepsis_summary_table = sepsis_df.mean()\n",
    "sepsis_summary_table['unit1'] = (sepsis_df.unit == 1).mean()\n",
    "sepsis_summary_table['unit2'] = (sepsis_df.unit == 2).mean()\n",
    "sepsis_summary_table['sepsis'] = 1\n",
    "non_sepsis_summary_table = non_sepsis_df.mean()\n",
    "non_sepsis_summary_table['unit1'] = (non_sepsis_df.unit == 1).mean()\n",
    "non_sepsis_summary_table['unit2'] = (non_sepsis_df.unit == 2).mean()\n",
    "non_sepsis_summary_table['sepsis'] = 0\n",
    "summary_table = pd.concat([sepsis_summary_table, non_sepsis_summary_table], axis=1).transpose()\n",
    "summary_table"
   ]
  },
  {
   "attachments": {},
   "cell_type": "markdown",
   "metadata": {},
   "source": [
    "We begin by creating tools to examine the null rate, mean and variance of our features. We also employ confidence intervals (unadjusted) as a tool for quickly identifying features that are different between the sepsis and non-sepsis population. We understand that these CI do not have statistical significance. However, they do provide an indication of the likely amount of difference between the two groups given the variance inherent in that feature. We employ the accepted 95% CI, acknowledging that simultaneous CI would result in wider CI.\n",
    "\n",
    "The cost of a type 1 error, adding an 'unnecessary' feature is so low, that we did not feel the necessity to adjust for the 33 'tests' that we perform on the 11 features for the non-null, mean, variance metrics. \n",
    "\n",
    "1. Temperature - because Sepsis can cause fever or low body temperatures (https://www.sepsis.org/sepsis-basics/symptoms/)\n",
    "2. Heart Rate - because Sepsis can cause elevated heart rate (https://www.ncbi.nlm.nih.gov/pmc/articles/PMC5538252/#:~:text=One%20of%20the%20most%20common,typically%2C%20a%20primary%20respiratory%20alkalosis.)\n",
    "3. Respiratory Rate - because Sepsis can caue elevated respiratory rates (https://www.ncbi.nlm.nih.gov/pmc/articles/PMC5538252/#:~:text=One%20of%20the%20most%20common,typically%2C%20a%20primary%20respiratory%20alkalosis.)\n",
    "4. WBC - Because Sepsis can cause an increase or decrease in the number of white blood cells\n",
    "5. Lactate - because Sepsis can cause an increase in lactate levels (https://www.sepsis.org/sepsis-basics/symptoms/)\n",
    "6. Base Excess - Sepsis can trigger metabolic acidosis which can be identified by excess base levels (https://www.ncbi.nlm.nih.gov/pmc/articles/PMC6402550/#:~:text=Sepsis%20causes%20hemodynamic%20instability%20through,prognosis%20in%20critically%20ill%20patients.)\n",
    "7. O2 Saturation - Due to organ dysfunction, sepsis patients often suffer from low oxygen levels. (https://www.sepsis.org/sepsis-basics/symptoms/)\n",
    "8. SBP - The heart pressure of the patient (systolic) is a general indicator of patient health.\n",
    "9. MAP - Similar to SBP, MAP is also a general indicator of patient health. Specifically, due to the critical nature of sepsis. Organ failure can cause a severe drop in arterial pressure.\n",
    "10. Age - Age is often correlated with severity of illness and the likelihood to get infections\n",
    "11. Gender - men have been found to be more succeptible to women in the literature (https://www.ncbi.nlm.nih.gov/pmc/articles/PMC4641283/#:~:text=Out%20of%20100%20patients%20with,females%20(p%3D0.30).)\n",
    "12. ICU LOS - Logically speaking, a sepsis patient will spend much of his LOS in a state of sepsis often resulting in the final LOS veiwed in the series being lower than for non-sepsis patients.\n",
    "13. Unit - Despite not knowing the actual difference between the two units, we check (and indeed likely confirm) that different units are used for different severities of illness. Therefore, if our models identify that a patient is in a more critical state based on the unit, our model will assign that patient a higher likelihood of sepsis.\n",
    "14. Hospital Admittance Time - The time between admittance to the \n"
   ]
  },
  {
   "cell_type": "code",
   "execution_count": 7,
   "metadata": {},
   "outputs": [],
   "source": [
    "def build_CI(feature_sepsis, feature_not_sepsis, bootstrap_size, num_bootstraps, verbose=True):\n",
    "    diff_list = list()\n",
    "    for b in range(num_bootstraps):\n",
    "        diff = feature_sepsis.sample(n=bootstrap_size, replace=True, random_state=b).mean() - feature_not_sepsis.sample(n=bootstrap_size, replace=True, random_state=b).mean()\n",
    "        diff_list.append(diff)\n",
    "    ci = np.percentile(np.array(diff_list), [2.5, 97.5])\n",
    "    if verbose:\n",
    "        print(f\"Confidence Interval: ({ci[0]}, {ci[1]})\")\n",
    "    return ci[0], ci[1]"
   ]
  },
  {
   "cell_type": "code",
   "execution_count": 10,
   "metadata": {},
   "outputs": [],
   "source": [
    "null_percentages = dict()\n",
    "for index, feature in enumerate(non_sepsis_dict['0']['Not Null Percentages'].index):\n",
    "    sepsis_ind = all_df[['Sepsis']]\n",
    "    null_temp = all_df['Not Null Percentages'].apply(lambda x: x[index])\n",
    "    temp_df = sepsis_ind.merge(null_temp, left_index=True, right_index=True)\n",
    "    null_percentages[feature] = {'overall': temp_df['Not Null Percentages'].mean(), 'sepsis': temp_df[temp_df['Sepsis'] == 1]['Not Null Percentages'].mean(), 'non-sepsis': temp_df[temp_df['Sepsis'] == 0]['Not Null Percentages'].mean()}"
   ]
  },
  {
   "cell_type": "code",
   "execution_count": 136,
   "metadata": {},
   "outputs": [
    {
     "data": {
      "text/plain": [
       "[('Age', 1.0),\n",
       " ('Gender', 1.0),\n",
       " ('HospAdmTime', 1.0),\n",
       " ('ICULOS', 1.0),\n",
       " ('SepsisLabel', 1.0),\n",
       " ('HR', 0.8875703503032597),\n",
       " ('MAP', 0.8602946382273902),\n",
       " ('O2Sat', 0.8553806656688697),\n",
       " ('SBP', 0.8420138035531876),\n",
       " ('Resp', 0.8333439717050836),\n",
       " ('DBP', 0.6692175125070055),\n",
       " ('Unit1', 0.6155438844561155),\n",
       " ('Unit2', 0.6155438844561155),\n",
       " ('Temp', 0.3358410464494574),\n",
       " ('Glucose', 0.1705168297135844),\n",
       " ('Potassium', 0.09256923388517307),\n",
       " ('Hct', 0.08979199478987131),\n",
       " ('FiO2', 0.07520838192683237),\n",
       " ('Hgb', 0.07445837437192727),\n",
       " ('BUN', 0.06894638180847498),\n",
       " ('pH', 0.06771259968625552),\n",
       " ('WBC', 0.06466855752642872),\n",
       " ('Magnesium', 0.06185842185234044),\n",
       " ('Creatinine', 0.06106063105291417),\n",
       " ('Platelets', 0.05971211533419382),\n",
       " ('Calcium', 0.05762034116244846),\n",
       " ('PaCO2', 0.05333157791957515),\n",
       " ('BaseExcess', 0.053017058755177565),\n",
       " ('Chloride', 0.044812000238738374),\n",
       " ('HCO3', 0.0413269883799986),\n",
       " ('Phosphate', 0.03861388585124563),\n",
       " ('SaO2', 0.034162414838340614),\n",
       " ('PTT', 0.028464913837084795),\n",
       " ('EtCO2', 0.026919270566123404),\n",
       " ('Lactate', 0.02503926200658087),\n",
       " ('AST', 0.01590610861917764),\n",
       " ('Alkalinephos', 0.015670916305460532),\n",
       " ('Bilirubin_total', 0.014672471203978825),\n",
       " ('TroponinI', 0.010959654976450111),\n",
       " ('Fibrinogen', 0.0059796083991582915),\n",
       " ('Bilirubin_direct', 0.001769081281798504)]"
      ]
     },
     "execution_count": 136,
     "metadata": {},
     "output_type": "execute_result"
    }
   ],
   "source": [
    "# sorted([(k, v['overall'], v['sepsis'], v['non-sepsis']) for k, v in null_percentages.items() if v['overall'] < 1.0], key=lambda x: x[1], reverse=False)\n",
    "sorted([(k, v['overall']) for k, v in null_percentages.items()], key=lambda x: x[1], reverse=True)"
   ]
  },
  {
   "cell_type": "code",
   "execution_count": 11,
   "metadata": {},
   "outputs": [],
   "source": [
    "verbose = False\n",
    "null_CI = dict()\n",
    "for index, feature in enumerate(non_sepsis_dict['0']['Not Null Percentages'].index):\n",
    "    sepsis_ind = all_df[['Sepsis']]\n",
    "    null_temp = all_df['Not Null Percentages'].apply(lambda x: x[index])\n",
    "    temp_df = sepsis_ind.merge(null_temp, left_index=True, right_index=True)\n",
    "    null_ci = build_CI(temp_df[temp_df['Sepsis'] == 1]['Not Null Percentages'], temp_df[temp_df['Sepsis'] == 0]['Not Null Percentages'], 300, 200, verbose=False)\n",
    "    \n",
    "    if null_ci[0] > 0 or null_ci[1] < 0:\n",
    "        if verbose:\n",
    "            print(feature + \"-----------------------------------------------------------------\")\n",
    "            print(\"Not Null Percentages\")\n",
    "            print(f\"Sepsis not null percentage average: {temp_df[temp_df['Sepsis'] == 1]['Not Null Percentages'].mean()} & Non-sepsis not null percentage average: {temp_df[temp_df['Sepsis'] == 0]['Not Null Percentages'].mean()}\")\n",
    "            print(f\"CI: ({null_ci[0]}, {null_ci[1]})\")\n",
    "            print()\n",
    "        null_CI[feature] = {'lower bound': null_ci[0], 'upper bound': null_ci[1], 'distance from zero': min(abs(null_ci[0]), abs(null_ci[1])), 'size': abs(null_ci[0] - null_ci[1])}"
   ]
  },
  {
   "cell_type": "code",
   "execution_count": 117,
   "metadata": {},
   "outputs": [
    {
     "data": {
      "text/plain": [
       "[('FiO2', 'distance from zero: 7.23%', 'CI width: 4.78%', '(7.23, 12.02)'),\n",
       " ('pH', 'distance from zero: 3.59%', 'CI width: 4.35%', '(3.59, 7.94)'),\n",
       " ('PaCO2', 'distance from zero: 3.28%', 'CI width: 3.19%', '(3.28, 6.46)'),\n",
       " ('BaseExcess',\n",
       "  'distance from zero: 3.06%',\n",
       "  'CI width: 4.16%',\n",
       "  '(3.06, 7.22)'),\n",
       " ('Lactate', 'distance from zero: 2.63%', 'CI width: 3.13%', '(2.63, 5.76)'),\n",
       " ('EtCO2', 'distance from zero: 2.21%', 'CI width: 6.19%', '(2.21, 8.4)'),\n",
       " ('Chloride', 'distance from zero: 1.36%', 'CI width: 2.7%', '(1.36, 4.06)'),\n",
       " ('Potassium', 'distance from zero: 1.26%', 'CI width: 3.41%', '(1.26, 4.67)'),\n",
       " ('HCO3', 'distance from zero: 1.15%', 'CI width: 2.65%', '(1.15, 3.8)'),\n",
       " ('SBP', 'distance from zero: 0.96%', 'CI width: 8.66%', '(-9.62, -0.96)'),\n",
       " ('Magnesium', 'distance from zero: 0.78%', 'CI width: 2.42%', '(0.78, 3.2)'),\n",
       " ('Calcium', 'distance from zero: 0.74%', 'CI width: 2.31%', '(0.74, 3.05)'),\n",
       " ('Hgb', 'distance from zero: 0.74%', 'CI width: 2.72%', '(0.74, 3.46)'),\n",
       " ('WBC', 'distance from zero: 0.73%', 'CI width: 2.21%', '(0.73, 2.94)'),\n",
       " ('BUN', 'distance from zero: 0.72%', 'CI width: 2.36%', '(0.72, 3.08)'),\n",
       " ('PTT', 'distance from zero: 0.72%', 'CI width: 2.1%', '(0.72, 2.82)'),\n",
       " ('Phosphate', 'distance from zero: 0.71%', 'CI width: 1.76%', '(0.71, 2.48)'),\n",
       " ('Hct', 'distance from zero: 0.52%', 'CI width: 3.29%', '(0.52, 3.81)'),\n",
       " ('SaO2', 'distance from zero: 0.37%', 'CI width: 2.74%', '(0.37, 3.11)'),\n",
       " ('AST', 'distance from zero: 0.37%', 'CI width: 1.56%', '(0.37, 1.93)'),\n",
       " ('Alkalinephos',\n",
       "  'distance from zero: 0.34%',\n",
       "  'CI width: 1.32%',\n",
       "  '(0.34, 1.66)'),\n",
       " ('Creatinine',\n",
       "  'distance from zero: 0.21%',\n",
       "  'CI width: 1.74%',\n",
       "  '(0.21, 1.95)'),\n",
       " ('Platelets', 'distance from zero: 0.19%', 'CI width: 1.85%', '(0.19, 2.04)'),\n",
       " ('Bilirubin_total',\n",
       "  'distance from zero: 0.07%',\n",
       "  'CI width: 1.2%',\n",
       "  '(0.07, 1.27)')]"
      ]
     },
     "execution_count": 117,
     "metadata": {},
     "output_type": "execute_result"
    }
   ],
   "source": [
    "sorted([(k, f\"distance from zero: {round(v['distance from zero']*100, 2)}%\", f\"CI width: {round(v['size']*100,2)}%\", f\"({round(v['lower bound']*100, 2)}, {round(v['upper bound']*100, 2)})\") for (k, v) in null_CI.items()], key=lambda x: x[1], reverse=True)"
   ]
  },
  {
   "cell_type": "code",
   "execution_count": 12,
   "metadata": {},
   "outputs": [],
   "source": [
    "means = dict()\n",
    "for index, feature in enumerate(non_sepsis_dict['0']['Not Null Percentages'].index[:-7]):\n",
    "    sepsis_ind = all_df[['Sepsis']]\n",
    "    mean_temp = all_df['Means'].apply(lambda x: x[index])\n",
    "    temp_df = sepsis_ind.merge(mean_temp, left_index=True, right_index=True)\n",
    "    means[feature] = {'overall': temp_df['Means'].mean(), 'sepsis': temp_df[temp_df['Sepsis'] == 1]['Means'].mean(), 'non-sepsis': temp_df[temp_df['Sepsis'] == 0]['Means'].mean()}"
   ]
  },
  {
   "cell_type": "code",
   "execution_count": 13,
   "metadata": {},
   "outputs": [],
   "source": [
    "verbose = False\n",
    "mean_CI = dict()\n",
    "for index, feature in enumerate(non_sepsis_dict['0']['Not Null Percentages'].index):\n",
    "    sepsis_ind = all_df[['Sepsis']]\n",
    "    try:\n",
    "        mean_temp = all_df['Means'].apply(lambda x: x[index])\n",
    "    except:\n",
    "        continue\n",
    "    temp_df = sepsis_ind.merge(mean_temp, left_index=True, right_index=True)\n",
    "    \n",
    "    mean_ci = build_CI(temp_df[temp_df['Sepsis'] == 1]['Means'], temp_df[temp_df['Sepsis'] == 0]['Means'], 300, 200, verbose=False)\n",
    "\n",
    "    if mean_ci[0] > 0 or mean_ci[1] < 0:\n",
    "        if verbose:\n",
    "            print(feature + \"-----------------------------------------------------------------\")\n",
    "            print(\"Mean\")\n",
    "            print(f\"Sepsis mean average: {temp_df[temp_df['Sepsis'] == 1]['Means'].mean()} & Non-sepsis mean average: {temp_df[temp_df['Sepsis'] == 0]['Means'].mean()}\")\n",
    "            print(f\"CI: ({mean_ci[0]}, {mean_ci[1]})\")\n",
    "            print()\n",
    "        mean_CI[feature] = {'lower bound': mean_ci[0], 'upper bound': mean_ci[1], 'distance from zero': min(abs(mean_ci[0]), abs(mean_ci[1])), 'size': abs(mean_ci[0] - mean_ci[1])}"
   ]
  },
  {
   "cell_type": "code",
   "execution_count": 113,
   "metadata": {},
   "outputs": [
    {
     "data": {
      "text/plain": [
       "[('HR', 2.26, 5.47, '(2.26, 7.73)'),\n",
       " ('BUN', 0.82, 7.31, '(0.82, 8.12)'),\n",
       " ('WBC', 0.63, 2.56, '(0.63, 3.19)'),\n",
       " ('Resp', 0.47, 1.28, '(0.47, 1.75)'),\n",
       " ('MAP', 0.21, 4.17, '(-4.38, -0.21)'),\n",
       " ('Hct', 0.2, 1.69, '(-1.89, -0.2)'),\n",
       " ('Calcium', 0.14, 0.5, '(-0.64, -0.14)'),\n",
       " ('Temp', 0.08, 0.22, '(0.08, 0.3)'),\n",
       " ('Hgb', 0.07, 0.54, '(-0.61, -0.07)')]"
      ]
     },
     "execution_count": 113,
     "metadata": {},
     "output_type": "execute_result"
    }
   ],
   "source": [
    "sorted([(k, round(v['distance from zero'], 2), round(v['size'],2), f\"({round(v['lower bound'], 2)}, {round(v['upper bound'], 2)})\") for (k, v) in mean_CI.items()], key=lambda x: x[1], reverse=True)"
   ]
  },
  {
   "cell_type": "code",
   "execution_count": 14,
   "metadata": {},
   "outputs": [],
   "source": [
    "verbose = False\n",
    "var_CI = dict()\n",
    "for index, feature in enumerate(non_sepsis_dict['0']['Not Null Percentages'].index):\n",
    "    sepsis_ind = all_df[['Sepsis']]\n",
    "    try:\n",
    "        var_temp = all_df['Vars'].apply(lambda x: x[index])\n",
    "    except:\n",
    "        continue\n",
    "    temp_df = sepsis_ind.merge(var_temp, left_index=True, right_index=True)\n",
    "\n",
    "    var_ci = build_CI(temp_df[temp_df['Sepsis'] == 1]['Vars'], temp_df[temp_df['Sepsis'] == 0]['Vars'], 300, 200, verbose=False)\n",
    "    \n",
    "    if var_ci[0] > 0 or var_ci[1] < 0:\n",
    "        # if verbose:\n",
    "            # print(feature + \"-----------------------------------------------------------------\")\n",
    "            # print(\"Variance\")\n",
    "            # print(f\"Sepsis variance average: {temp_df[temp_df['Sepsis'] == 1]['Vars'].mean()} & Non-sepsis variance average: {temp_df[temp_df['Sepsis'] == 0]['Vars'].mean()}\")\n",
    "            # print(f\"CI: ({var_ci[0]}, {var_ci[1]})\")\n",
    "            # print()  \n",
    "        var_CI[feature] = {'lower bound': var_ci[0], 'upper bound': var_ci[1], 'distance from zero': min(abs(var_ci[0]), abs(var_ci[1])), 'size': abs(var_ci[0] - var_ci[1])}"
   ]
  },
  {
   "cell_type": "code",
   "execution_count": 79,
   "metadata": {},
   "outputs": [
    {
     "data": {
      "text/plain": [
       "[('Platelets', 83.47, 1535.31), ('Temp', 0.03, 0.14)]"
      ]
     },
     "execution_count": 79,
     "metadata": {},
     "output_type": "execute_result"
    }
   ],
   "source": [
    "sorted([(k, round(v['distance from zero'], 2), round(v['size'],2)) for (k, v) in var_CI.items()], key=lambda x: x[1], reverse=True)"
   ]
  },
  {
   "cell_type": "code",
   "execution_count": 15,
   "metadata": {},
   "outputs": [],
   "source": [
    "vars = dict()\n",
    "for index, feature in enumerate(non_sepsis_dict['0']['Not Null Percentages'].index[:-7]):\n",
    "    sepsis_ind = all_df[['Sepsis']]\n",
    "    var_temp = all_df['Vars'].apply(lambda x: x[index])\n",
    "    temp_df = sepsis_ind.merge(var_temp, left_index=True, right_index=True)\n",
    "    vars[feature] = {'overall': temp_df['Vars'].mean(), 'sepsis': temp_df[temp_df['Sepsis'] == 1]['Vars'].mean(), 'non-sepsis': temp_df[temp_df['Sepsis'] == 0]['Vars'].mean()}"
   ]
  },
  {
   "cell_type": "code",
   "execution_count": 127,
   "metadata": {},
   "outputs": [
    {
     "data": {
      "text/plain": [
       "dict_keys(['HR', 'O2Sat', 'Temp', 'SBP', 'MAP', 'DBP', 'Resp', 'EtCO2', 'BaseExcess', 'HCO3', 'FiO2', 'pH', 'PaCO2', 'SaO2', 'AST', 'BUN', 'Alkalinephos', 'Calcium', 'Chloride', 'Creatinine', 'Bilirubin_direct', 'Glucose', 'Lactate', 'Magnesium', 'Phosphate', 'Potassium', 'Bilirubin_total', 'TroponinI', 'Hct', 'Hgb', 'PTT', 'WBC', 'Fibrinogen', 'Platelets', 'Age', 'Gender', 'Unit1', 'Unit2', 'HospAdmTime', 'ICULOS', 'SepsisLabel'])"
      ]
     },
     "execution_count": 127,
     "metadata": {},
     "output_type": "execute_result"
    }
   ],
   "source": [
    "null_percentages.keys()"
   ]
  },
  {
   "cell_type": "code",
   "execution_count": 53,
   "metadata": {},
   "outputs": [
    {
     "data": {
      "text/html": [
       "<div>\n",
       "<style scoped>\n",
       "    .dataframe tbody tr th:only-of-type {\n",
       "        vertical-align: middle;\n",
       "    }\n",
       "\n",
       "    .dataframe tbody tr th {\n",
       "        vertical-align: top;\n",
       "    }\n",
       "\n",
       "    .dataframe thead th {\n",
       "        text-align: right;\n",
       "    }\n",
       "</style>\n",
       "<table border=\"1\" class=\"dataframe\">\n",
       "  <thead>\n",
       "    <tr style=\"text-align: right;\">\n",
       "      <th></th>\n",
       "      <th>index</th>\n",
       "      <th>0</th>\n",
       "    </tr>\n",
       "  </thead>\n",
       "  <tbody>\n",
       "    <tr>\n",
       "      <th>0</th>\n",
       "      <td>overall</td>\n",
       "      <td>36.839020</td>\n",
       "    </tr>\n",
       "    <tr>\n",
       "      <th>1</th>\n",
       "      <td>sepsis</td>\n",
       "      <td>37.018777</td>\n",
       "    </tr>\n",
       "    <tr>\n",
       "      <th>2</th>\n",
       "      <td>non-sepsis</td>\n",
       "      <td>36.828003</td>\n",
       "    </tr>\n",
       "  </tbody>\n",
       "</table>\n",
       "</div>"
      ],
      "text/plain": [
       "        index          0\n",
       "0     overall  36.839020\n",
       "1      sepsis  37.018777\n",
       "2  non-sepsis  36.828003"
      ]
     },
     "execution_count": 53,
     "metadata": {},
     "output_type": "execute_result"
    }
   ],
   "source": [
    "pd.DataFrame.from_dict(means['Temp'], orient='index').reset_index()"
   ]
  },
  {
   "attachments": {},
   "cell_type": "markdown",
   "metadata": {},
   "source": [
    "We now use this cell to check our features of interest"
   ]
  },
  {
   "cell_type": "code",
   "execution_count": 16,
   "metadata": {},
   "outputs": [
    {
     "data": {
      "text/plain": [
       "dict_keys(['HR', 'O2Sat', 'Temp', 'SBP', 'MAP', 'DBP', 'Resp', 'EtCO2', 'BaseExcess', 'HCO3', 'FiO2', 'pH', 'PaCO2', 'SaO2', 'AST', 'BUN', 'Alkalinephos', 'Calcium', 'Chloride', 'Creatinine', 'Bilirubin_direct', 'Glucose', 'Lactate', 'Magnesium', 'Phosphate', 'Potassium', 'Bilirubin_total', 'TroponinI', 'Hct', 'Hgb', 'PTT', 'WBC', 'Fibrinogen', 'Platelets', 'Age', 'Gender', 'Unit1', 'Unit2', 'HospAdmTime', 'ICULOS', 'SepsisLabel'])"
      ]
     },
     "execution_count": 16,
     "metadata": {},
     "output_type": "execute_result"
    }
   ],
   "source": [
    "null_percentages.keys()"
   ]
  },
  {
   "cell_type": "code",
   "execution_count": 31,
   "metadata": {},
   "outputs": [
    {
     "name": "stdout",
     "output_type": "stream",
     "text": [
      "Not Null\n",
      "{'overall': 0.8602946382273902, 'sepsis': 0.8645056368534857, 'non-sepsis': 0.86001888975669}\n"
     ]
    },
    {
     "data": {
      "image/png": "[encoded data removed]",
      "text/plain": [
       "<Figure size 640x480 with 1 Axes>"
      ]
     },
     "metadata": {},
     "output_type": "display_data"
    },
    {
     "name": "stdout",
     "output_type": "stream",
     "text": [
      "Null % CI\n",
      "\n",
      "Mean\n",
      "{'overall': 82.52983142089153, 'sepsis': 80.4415763374852, 'non-sepsis': 82.66397261092104}\n"
     ]
    },
    {
     "data": {
      "image/png": "[encoded data removed]",
      "text/plain": [
       "<Figure size 640x480 with 1 Axes>"
      ]
     },
     "metadata": {},
     "output_type": "display_data"
    },
    {
     "name": "stdout",
     "output_type": "stream",
     "text": [
      "Mean % CI\n",
      "{'lower bound': -4.376168396436575, 'upper bound': -0.20742498448067087, 'distance from zero': 0.20742498448067087, 'size': 4.168743411955904}\n",
      "Variance\n",
      "{'overall': 113.61506250688052, 'sepsis': 122.8070963004401, 'non-sepsis': 113.03822742286215}\n"
     ]
    },
    {
     "data": {
      "image/png": "[encoded data removed]",
      "text/plain": [
       "<Figure size 640x480 with 1 Axes>"
      ]
     },
     "metadata": {},
     "output_type": "display_data"
    },
    {
     "name": "stdout",
     "output_type": "stream",
     "text": [
      "Var % CI\n",
      "\n"
     ]
    }
   ],
   "source": [
    "check_feature = 'MAP'\n",
    "try:\n",
    "    print(\"Not Null\")\n",
    "    print(null_percentages[check_feature])\n",
    "    null_temp_df = pd.DataFrame.from_dict(null_percentages[check_feature], orient='index').reset_index()\n",
    "    ax = sns.barplot(data=null_temp_df, x='index', y=0)\n",
    "    for i in ax.containers:\n",
    "        ax.bar_label(i,)\n",
    "    plt.title(\"Non-Null rate for: \" + check_feature)\n",
    "    plt.xlabel(\"\")\n",
    "    plt.ylabel(\"\")    \n",
    "    plt.show()\n",
    "except:\n",
    "    print()\n",
    "try:\n",
    "    print(\"Null % CI\")\n",
    "    print(null_CI[check_feature])\n",
    "except:\n",
    "    print()\n",
    "try:\n",
    "    print(\"Mean\")\n",
    "    print(means[check_feature])\n",
    "    mean_temp_df = pd.DataFrame.from_dict(means[check_feature], orient='index').reset_index()\n",
    "    ax = sns.barplot(data=mean_temp_df, x='index', y=0)\n",
    "    for i in ax.containers:\n",
    "        ax.bar_label(i,)\n",
    "    plt.title('Means for: ' + check_feature)\n",
    "    plt.xlabel(\"\")\n",
    "    plt.ylabel(\"\")\n",
    "    plt.show()\n",
    "except:\n",
    "    print()\n",
    "try:\n",
    "    print(\"Mean % CI\")\n",
    "    print(mean_CI[check_feature])\n",
    "except:\n",
    "    print()\n",
    "try:\n",
    "    print(\"Variance\")\n",
    "    print(vars[check_feature])\n",
    "    var_temp_df = pd.DataFrame.from_dict(vars[check_feature], orient='index').reset_index()\n",
    "    ax = sns.barplot(data=var_temp_df, x='index', y=0)\n",
    "    for i in ax.containers:\n",
    "        ax.bar_label(i,)\n",
    "    plt.title(\"Variances for: \" + check_feature)\n",
    "    plt.xlabel(\"\")\n",
    "    plt.ylabel(\"\")\n",
    "    plt.show()\n",
    "except:\n",
    "    print()\n",
    "try:\n",
    "    print(\"Var % CI\")\n",
    "    print(var_CI[check_feature])\n",
    "except:\n",
    "    print()"
   ]
  },
  {
   "attachments": {},
   "cell_type": "markdown",
   "metadata": {},
   "source": [
    "We will examine Hospital Admin time, which shows how long between between entry to the ICU until hospitalization in the general wing of the hospital.\n",
    "\n",
    "There is evidence that there is a difference in the hospital admission times and that the sepsis admission time is smaller. This makes sense because sepsis often develops in ill patients who are likely to already be in the hospital."
   ]
  },
  {
   "cell_type": "code",
   "execution_count": 11,
   "metadata": {},
   "outputs": [
    {
     "name": "stdout",
     "output_type": "stream",
     "text": [
      "Confidence Interval: (-51.10724083333334, -2.8854366666666773)\n"
     ]
    },
    {
     "data": {
      "text/plain": [
       "(-51.10724083333334, -2.8854366666666773)"
      ]
     },
     "execution_count": 11,
     "metadata": {},
     "output_type": "execute_result"
    }
   ],
   "source": [
    "build_CI(sepsis_df['HospAdmTime'],  non_sepsis_df['HospAdmTime'], 300, 200)"
   ]
  },
  {
   "attachments": {},
   "cell_type": "markdown",
   "metadata": {},
   "source": [
    "We will check age and age by gender (the literature indicates that women get sepsis at an older age). We find that there is no (bootstrap) evidence for a difference between the two populations by age."
   ]
  },
  {
   "cell_type": "code",
   "execution_count": 8,
   "metadata": {},
   "outputs": [
    {
     "name": "stdout",
     "output_type": "stream",
     "text": [
      "General CI\n",
      "Confidence Interval: (-2.1400574999999993, 2.9457266666666673)\n",
      "CI for men\n",
      "Confidence Interval: (-2.2663025000000045, 2.4235466666666556)\n",
      "CI for women\n",
      "Confidence Interval: (-1.1226091666666593, 4.148594999999987)\n"
     ]
    },
    {
     "data": {
      "text/plain": [
       "(-1.1226091666666593, 4.148594999999987)"
      ]
     },
     "execution_count": 8,
     "metadata": {},
     "output_type": "execute_result"
    }
   ],
   "source": [
    "print(\"General CI\")\n",
    "build_CI(sepsis_df['age'],  non_sepsis_df['age'], 300, 100)\n",
    "print(\"CI for men\")\n",
    "build_CI(sepsis_df[sepsis_df['gender'] == 1]['age'],  non_sepsis_df[non_sepsis_df['gender'] == 1]['age'], 300, 100)\n",
    "print(\"CI for women\")\n",
    "build_CI(sepsis_df[sepsis_df['gender'] == 0]['age'],  non_sepsis_df[non_sepsis_df['gender'] == 0]['age'], 300, 100)"
   ]
  },
  {
   "cell_type": "code",
   "execution_count": 40,
   "metadata": {},
   "outputs": [
    {
     "data": {
      "image/png": "[encoded data removed]",
      "text/plain": [
       "<Figure size 640x480 with 1 Axes>"
      ]
     },
     "metadata": {},
     "output_type": "display_data"
    }
   ],
   "source": [
    "sns.histplot(data=all_df, x='age', hue='Sepsis')\n",
    "plt.title('Age distribution colored by Sepsis')\n",
    "plt.show()"
   ]
  },
  {
   "attachments": {},
   "cell_type": "markdown",
   "metadata": {},
   "source": [
    "We will examine the anamolys group of members aged 100. We suspect that perhaps the patients aged 100 are more sick and were specially flown in to these hospitals. But we did not find evidence that they are more sick (using the proxy of LOS)"
   ]
  },
  {
   "cell_type": "code",
   "execution_count": 18,
   "metadata": {},
   "outputs": [
    {
     "name": "stdout",
     "output_type": "stream",
     "text": [
      "Confidence Interval: (-3.362666666666666, 3.0995000000000017)\n"
     ]
    },
    {
     "data": {
      "text/plain": [
       "(-3.362666666666666, 3.0995000000000017)"
      ]
     },
     "execution_count": 18,
     "metadata": {},
     "output_type": "execute_result"
    }
   ],
   "source": [
    "build_CI(all_df[all_df['age'] > 90]['Final ICULOS'], all_df[all_df['age'] < 90]['Final ICULOS'], 300, 200)"
   ]
  },
  {
   "attachments": {},
   "cell_type": "markdown",
   "metadata": {},
   "source": [
    "We will examine the LOS that can be taken in our task (the last LOS for non-sepsis patients and 6 hours before the LOS with Sepsis).\n",
    "\n",
    "There is evidence that their is a siginificant difference between them. This makes sense because sepsis patients spend much of their time in the ICU with Sepsis based on the data."
   ]
  },
  {
   "cell_type": "code",
   "execution_count": 12,
   "metadata": {},
   "outputs": [
    {
     "name": "stdout",
     "output_type": "stream",
     "text": [
      "Confidence Interval: (6.396583333333336, 19.461833333333335)\n"
     ]
    },
    {
     "data": {
      "text/plain": [
       "(6.396583333333336, 19.461833333333335)"
      ]
     },
     "execution_count": 12,
     "metadata": {},
     "output_type": "execute_result"
    }
   ],
   "source": [
    "build_CI(sepsis_df['Sepsis ICULOS'], non_sepsis_df['Final ICULOS'], 300, 200)"
   ]
  },
  {
   "cell_type": "code",
   "execution_count": 33,
   "metadata": {},
   "outputs": [
    {
     "data": {
      "text/html": [
       "<div>\n",
       "<style scoped>\n",
       "    .dataframe tbody tr th:only-of-type {\n",
       "        vertical-align: middle;\n",
       "    }\n",
       "\n",
       "    .dataframe tbody tr th {\n",
       "        vertical-align: top;\n",
       "    }\n",
       "\n",
       "    .dataframe thead th {\n",
       "        text-align: right;\n",
       "    }\n",
       "</style>\n",
       "<table border=\"1\" class=\"dataframe\">\n",
       "  <thead>\n",
       "    <tr style=\"text-align: right;\">\n",
       "      <th></th>\n",
       "      <th>Sepsis</th>\n",
       "      <th>Final ICULOS</th>\n",
       "    </tr>\n",
       "  </thead>\n",
       "  <tbody>\n",
       "    <tr>\n",
       "      <th>14421</th>\n",
       "      <td>1</td>\n",
       "      <td>54.0</td>\n",
       "    </tr>\n",
       "    <tr>\n",
       "      <th>17558</th>\n",
       "      <td>1</td>\n",
       "      <td>3.0</td>\n",
       "    </tr>\n",
       "    <tr>\n",
       "      <th>1873</th>\n",
       "      <td>1</td>\n",
       "      <td>1.0</td>\n",
       "    </tr>\n",
       "    <tr>\n",
       "      <th>14108</th>\n",
       "      <td>1</td>\n",
       "      <td>13.0</td>\n",
       "    </tr>\n",
       "    <tr>\n",
       "      <th>6739</th>\n",
       "      <td>1</td>\n",
       "      <td>69.0</td>\n",
       "    </tr>\n",
       "  </tbody>\n",
       "</table>\n",
       "</div>"
      ],
      "text/plain": [
       "       Sepsis  Final ICULOS\n",
       "14421       1          54.0\n",
       "17558       1           3.0\n",
       "1873        1           1.0\n",
       "14108       1          13.0\n",
       "6739        1          69.0"
      ]
     },
     "execution_count": 33,
     "metadata": {},
     "output_type": "execute_result"
    }
   ],
   "source": [
    "last_LOS_for_model = pd.concat([all_df[all_df['Sepsis'] == 1][['Sepsis', 'Sepsis ICULOS']].rename(columns={'Sepsis ICULOS': 'Final ICULOS'}), all_df[all_df['Sepsis'] == 0][['Sepsis', 'Final ICULOS']]])\n",
    "last_LOS_for_model.head()"
   ]
  },
  {
   "cell_type": "code",
   "execution_count": 35,
   "metadata": {},
   "outputs": [
    {
     "data": {
      "image/png": "[encoded data removed]",
      "text/plain": [
       "<Figure size 640x480 with 1 Axes>"
      ]
     },
     "metadata": {},
     "output_type": "display_data"
    }
   ],
   "source": [
    "sns.histplot(data=last_LOS_for_model, x='Final ICULOS', hue='Sepsis')\n",
    "plt.title('Compare the last ICU LOS')\n",
    "plt.show()"
   ]
  },
  {
   "attachments": {},
   "cell_type": "markdown",
   "metadata": {},
   "source": [
    "We will now use Hypothesis testing to check our expectations from the discrete categories for which we can use a standard chi squared test.\n",
    "We will test gender and unit."
   ]
  },
  {
   "attachments": {},
   "cell_type": "markdown",
   "metadata": {},
   "source": [
    "We find that gender is correlated to Sepsis at a p-value of around 0.5. \n",
    "This makes sense because based on the literature men are more succeptible to sepsis and we find that to be the case here. However, we will note that would we adjust for multiple comparisons, this would not be considered statistically significant (even by less conservative adjustments then Bernoulli).\n",
    "Nevertheless, based on the literature we will still use this feature. "
   ]
  },
  {
   "cell_type": "code",
   "execution_count": 20,
   "metadata": {},
   "outputs": [
    {
     "name": "stdout",
     "output_type": "stream",
     "text": [
      "[[822, 10288], [593, 8297]]\n",
      "0.04902474059626093\n",
      "0.07398739873987399 % of men (n=11110) with sepsis vs. 0.06670416197975253% women (n=8890) with sepsis in data\n"
     ]
    }
   ],
   "source": [
    "gender_data = [[((all_df.gender == 1) & (all_df.Sepsis == 1)).sum(), ((all_df.gender == 1) & (all_df.Sepsis == 0)).sum()], \n",
    "               [((all_df.gender == 0) & (all_df.Sepsis == 1)).sum(), ((all_df.gender == 0) & (all_df.Sepsis == 0)).sum()]]\n",
    "print(gender_data)\n",
    "stat, p, dof, expected = chi2_contingency(gender_data)\n",
    "print(p)\n",
    "print(f'{((all_df.gender == 1) & (all_df.Sepsis == 1)).sum()/(all_df.gender == 1).sum()} % of men (n={(all_df.gender == 1).sum()}) with sepsis vs. {((all_df.gender == 0) & (all_df.Sepsis == 1)).sum()/(all_df.gender == 0).sum()}% women (n={(all_df.gender == 0).sum()}) with sepsis in data')\n"
   ]
  },
  {
   "cell_type": "code",
   "execution_count": 36,
   "metadata": {},
   "outputs": [
    {
     "data": {
      "image/png": "[encoded data removed]",
      "text/plain": [
       "<Figure size 640x480 with 1 Axes>"
      ]
     },
     "metadata": {},
     "output_type": "display_data"
    }
   ],
   "source": [
    "sns.barplot(data=all_df, y='Sepsis', x='gender')\n",
    "plt.title('Compare Average Sepsis between Genders')\n",
    "plt.show()"
   ]
  },
  {
   "attachments": {},
   "cell_type": "markdown",
   "metadata": {},
   "source": [
    "We look at which unit the patients were treated and find that at a very significant level unit is correlated to sepsis. Likely, even if we would control for multiple testing on all of the tests that we performed here this would be statistically significant.\n",
    "It is likely that unit 1 treats more ill patients. However, we will note that this information is often lacking and therefore the statistic could be biased."
   ]
  },
  {
   "cell_type": "code",
   "execution_count": 138,
   "metadata": {},
   "outputs": [
    {
     "name": "stdout",
     "output_type": "stream",
     "text": [
      "7.212712069706973e-09\n",
      "0.07602435412209972 % of unit1 (n=6077) with sepsis vs. 0.050505050505050504% unit2 (n=6237) with sepsis in data\n"
     ]
    }
   ],
   "source": [
    "unit_data = [[((all_df.unit == 1) & (all_df.Sepsis == 1)).sum(), ((all_df.unit == 1) & (all_df.Sepsis == 0)).sum()], \n",
    "               [((all_df.unit == 2) & (all_df.Sepsis == 1)).sum(), ((all_df.unit == 2) & (all_df.Sepsis == 0)).sum()]]\n",
    "stat, p, dof, expected = chi2_contingency(unit_data)\n",
    "print(p)\n",
    "print(f'{((all_df.unit == 1) & (all_df.Sepsis == 1)).sum()/(all_df.unit == 1).sum()} % of unit1 (n={(all_df.unit == 1).sum()}) with sepsis vs. {((all_df.unit == 2) & (all_df.Sepsis == 1)).sum()/(all_df.unit == 2).sum()}% unit2 (n={(all_df.unit == 2).sum()}) with sepsis in data')\n"
   ]
  },
  {
   "cell_type": "code",
   "execution_count": 39,
   "metadata": {},
   "outputs": [
    {
     "data": {
      "image/png": "[encoded data removed]",
      "text/plain": [
       "<Figure size 640x480 with 1 Axes>"
      ]
     },
     "metadata": {},
     "output_type": "display_data"
    }
   ],
   "source": [
    "sns.barplot(data=all_df, y='Sepsis', x='unit')\n",
    "plt.title('Compare Average Sepsis between Units')\n",
    "plt.show()"
   ]
  }
 ],
 "metadata": {
  "kernelspec": {
   "display_name": "HW1",
   "language": "python",
   "name": "python3"
  },
  "language_info": {
   "codemirror_mode": {
    "name": "ipython",
    "version": 3
   },
   "file_extension": ".py",
   "mimetype": "text/x-python",
   "name": "python",
   "nbconvert_exporter": "python",
   "pygments_lexer": "ipython3",
   "version": "3.11.3"
  },
  "orig_nbformat": 4
 },
 "nbformat": 4,
 "nbformat_minor": 2
}
