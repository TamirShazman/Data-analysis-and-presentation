{
 "cells": [
  {
   "attachments": {},
   "cell_type": "markdown",
   "metadata": {},
   "source": [
    "Questions that interest us in our analysis\n",
    "1. What features have are often null? Are there patterns that can be identified and associated with our target feature\n",
    "2. What is the propensity of Sepsis within the train population?\n",
    "    1. How is that affected by demographic/contextual factors? (Severe Sepsis has been found to be more prevelant in male patients. See ncbi.nlm.nih.gov/pmc/articles/PMC3916365/) We will check these factors using hypothesis testing\n",
    "3. What is the correlation between feature values and sepsis?\n",
    "    1. Within a patients history, what correlations can be found?\n",
    "    2. Examining across all patients, the features at 6 hours before and the features at diagnosis of Sepsis\n",
    "    3. What differences can be noted between members who did not get Sepsis and those that did? (Hypothesis Testing)"
   ]
  },
  {
   "cell_type": "code",
   "execution_count": 122,
   "metadata": {},
   "outputs": [],
   "source": [
    "from glob import glob\n",
    "import pandas as pd\n",
    "import matplotlib.pyplot as plt\n",
    "import seaborn as sns\n",
    "import os\n",
    "import numpy as np\n",
    "\n",
    "from scipy.stats import chi2_contingency"
   ]
  },
  {
   "cell_type": "code",
   "execution_count": 3,
   "metadata": {},
   "outputs": [],
   "source": [
    "train_dir = '/home/student/Data-analysis-and-presentation/HW1/data/train'"
   ]
  },
  {
   "attachments": {},
   "cell_type": "markdown",
   "metadata": {},
   "source": [
    "We will begin with a basic examination of the overal structure of the data"
   ]
  },
  {
   "attachments": {},
   "cell_type": "markdown",
   "metadata": {},
   "source": [
    "We will note that we have 40 features and 1 label"
   ]
  },
  {
   "cell_type": "code",
   "execution_count": 65,
   "metadata": {},
   "outputs": [
    {
     "name": "stdout",
     "output_type": "stream",
     "text": [
      "(23, 41)\n"
     ]
    },
    {
     "data": {
      "text/html": [
       "<div>\n",
       "<style scoped>\n",
       "    .dataframe tbody tr th:only-of-type {\n",
       "        vertical-align: middle;\n",
       "    }\n",
       "\n",
       "    .dataframe tbody tr th {\n",
       "        vertical-align: top;\n",
       "    }\n",
       "\n",
       "    .dataframe thead th {\n",
       "        text-align: right;\n",
       "    }\n",
       "</style>\n",
       "<table border=\"1\" class=\"dataframe\">\n",
       "  <thead>\n",
       "    <tr style=\"text-align: right;\">\n",
       "      <th></th>\n",
       "      <th>HR</th>\n",
       "      <th>O2Sat</th>\n",
       "      <th>Temp</th>\n",
       "      <th>SBP</th>\n",
       "      <th>MAP</th>\n",
       "      <th>DBP</th>\n",
       "      <th>Resp</th>\n",
       "      <th>EtCO2</th>\n",
       "      <th>BaseExcess</th>\n",
       "      <th>HCO3</th>\n",
       "      <th>...</th>\n",
       "      <th>WBC</th>\n",
       "      <th>Fibrinogen</th>\n",
       "      <th>Platelets</th>\n",
       "      <th>Age</th>\n",
       "      <th>Gender</th>\n",
       "      <th>Unit1</th>\n",
       "      <th>Unit2</th>\n",
       "      <th>HospAdmTime</th>\n",
       "      <th>ICULOS</th>\n",
       "      <th>SepsisLabel</th>\n",
       "    </tr>\n",
       "  </thead>\n",
       "  <tbody>\n",
       "    <tr>\n",
       "      <th>0</th>\n",
       "      <td>NaN</td>\n",
       "      <td>NaN</td>\n",
       "      <td>NaN</td>\n",
       "      <td>NaN</td>\n",
       "      <td>NaN</td>\n",
       "      <td>NaN</td>\n",
       "      <td>NaN</td>\n",
       "      <td>NaN</td>\n",
       "      <td>NaN</td>\n",
       "      <td>NaN</td>\n",
       "      <td>...</td>\n",
       "      <td>NaN</td>\n",
       "      <td>NaN</td>\n",
       "      <td>NaN</td>\n",
       "      <td>75.91</td>\n",
       "      <td>0</td>\n",
       "      <td>0</td>\n",
       "      <td>1</td>\n",
       "      <td>-98.6</td>\n",
       "      <td>1</td>\n",
       "      <td>0</td>\n",
       "    </tr>\n",
       "    <tr>\n",
       "      <th>1</th>\n",
       "      <td>61.0</td>\n",
       "      <td>99.0</td>\n",
       "      <td>36.44</td>\n",
       "      <td>124.0</td>\n",
       "      <td>65.0</td>\n",
       "      <td>43.0</td>\n",
       "      <td>17.5</td>\n",
       "      <td>NaN</td>\n",
       "      <td>NaN</td>\n",
       "      <td>NaN</td>\n",
       "      <td>...</td>\n",
       "      <td>NaN</td>\n",
       "      <td>NaN</td>\n",
       "      <td>NaN</td>\n",
       "      <td>75.91</td>\n",
       "      <td>0</td>\n",
       "      <td>0</td>\n",
       "      <td>1</td>\n",
       "      <td>-98.6</td>\n",
       "      <td>2</td>\n",
       "      <td>0</td>\n",
       "    </tr>\n",
       "    <tr>\n",
       "      <th>2</th>\n",
       "      <td>64.0</td>\n",
       "      <td>98.0</td>\n",
       "      <td>NaN</td>\n",
       "      <td>125.0</td>\n",
       "      <td>64.0</td>\n",
       "      <td>41.0</td>\n",
       "      <td>27.0</td>\n",
       "      <td>NaN</td>\n",
       "      <td>NaN</td>\n",
       "      <td>NaN</td>\n",
       "      <td>...</td>\n",
       "      <td>NaN</td>\n",
       "      <td>NaN</td>\n",
       "      <td>NaN</td>\n",
       "      <td>75.91</td>\n",
       "      <td>0</td>\n",
       "      <td>0</td>\n",
       "      <td>1</td>\n",
       "      <td>-98.6</td>\n",
       "      <td>3</td>\n",
       "      <td>0</td>\n",
       "    </tr>\n",
       "    <tr>\n",
       "      <th>3</th>\n",
       "      <td>56.0</td>\n",
       "      <td>100.0</td>\n",
       "      <td>NaN</td>\n",
       "      <td>123.0</td>\n",
       "      <td>65.0</td>\n",
       "      <td>41.0</td>\n",
       "      <td>9.0</td>\n",
       "      <td>NaN</td>\n",
       "      <td>NaN</td>\n",
       "      <td>NaN</td>\n",
       "      <td>...</td>\n",
       "      <td>NaN</td>\n",
       "      <td>NaN</td>\n",
       "      <td>NaN</td>\n",
       "      <td>75.91</td>\n",
       "      <td>0</td>\n",
       "      <td>0</td>\n",
       "      <td>1</td>\n",
       "      <td>-98.6</td>\n",
       "      <td>4</td>\n",
       "      <td>0</td>\n",
       "    </tr>\n",
       "    <tr>\n",
       "      <th>4</th>\n",
       "      <td>66.0</td>\n",
       "      <td>99.0</td>\n",
       "      <td>NaN</td>\n",
       "      <td>120.0</td>\n",
       "      <td>67.0</td>\n",
       "      <td>43.0</td>\n",
       "      <td>23.0</td>\n",
       "      <td>NaN</td>\n",
       "      <td>NaN</td>\n",
       "      <td>NaN</td>\n",
       "      <td>...</td>\n",
       "      <td>NaN</td>\n",
       "      <td>NaN</td>\n",
       "      <td>NaN</td>\n",
       "      <td>75.91</td>\n",
       "      <td>0</td>\n",
       "      <td>0</td>\n",
       "      <td>1</td>\n",
       "      <td>-98.6</td>\n",
       "      <td>5</td>\n",
       "      <td>0</td>\n",
       "    </tr>\n",
       "  </tbody>\n",
       "</table>\n",
       "<p>5 rows × 41 columns</p>\n",
       "</div>"
      ],
      "text/plain": [
       "     HR  O2Sat   Temp    SBP   MAP   DBP  Resp  EtCO2  BaseExcess  HCO3  ...  \\\n",
       "0   NaN    NaN    NaN    NaN   NaN   NaN   NaN    NaN         NaN   NaN  ...   \n",
       "1  61.0   99.0  36.44  124.0  65.0  43.0  17.5    NaN         NaN   NaN  ...   \n",
       "2  64.0   98.0    NaN  125.0  64.0  41.0  27.0    NaN         NaN   NaN  ...   \n",
       "3  56.0  100.0    NaN  123.0  65.0  41.0   9.0    NaN         NaN   NaN  ...   \n",
       "4  66.0   99.0    NaN  120.0  67.0  43.0  23.0    NaN         NaN   NaN  ...   \n",
       "\n",
       "   WBC  Fibrinogen  Platelets    Age  Gender  Unit1  Unit2  HospAdmTime  \\\n",
       "0  NaN         NaN        NaN  75.91       0      0      1        -98.6   \n",
       "1  NaN         NaN        NaN  75.91       0      0      1        -98.6   \n",
       "2  NaN         NaN        NaN  75.91       0      0      1        -98.6   \n",
       "3  NaN         NaN        NaN  75.91       0      0      1        -98.6   \n",
       "4  NaN         NaN        NaN  75.91       0      0      1        -98.6   \n",
       "\n",
       "   ICULOS  SepsisLabel  \n",
       "0       1            0  \n",
       "1       2            0  \n",
       "2       3            0  \n",
       "3       4            0  \n",
       "4       5            0  \n",
       "\n",
       "[5 rows x 41 columns]"
      ]
     },
     "execution_count": 65,
     "metadata": {},
     "output_type": "execute_result"
    }
   ],
   "source": [
    "# example_df = pd.read_csv(train_dir + '/patient_14421.psv',sep='|') # has sepsis\n",
    "example_df = pd.read_csv(train_dir + '/patient_0.psv',sep='|')\n",
    "print(example_df.shape)\n",
    "example_df.head()"
   ]
  },
  {
   "cell_type": "code",
   "execution_count": 89,
   "metadata": {},
   "outputs": [
    {
     "data": {
      "text/plain": [
       "HR                   60.954545\n",
       "O2Sat                97.000000\n",
       "Temp                 36.165000\n",
       "SBP                 136.600000\n",
       "MAP                  66.704545\n",
       "DBP                  44.066667\n",
       "Resp                 14.236842\n",
       "EtCO2                      NaN\n",
       "BaseExcess                 NaN\n",
       "HCO3                 22.000000\n",
       "FiO2                       NaN\n",
       "pH                         NaN\n",
       "PaCO2                      NaN\n",
       "SaO2                       NaN\n",
       "AST                        NaN\n",
       "BUN                 100.000000\n",
       "Alkalinephos               NaN\n",
       "Calcium               7.900000\n",
       "Chloride            113.000000\n",
       "Creatinine            2.500000\n",
       "Bilirubin_direct           NaN\n",
       "Glucose              78.000000\n",
       "Lactate                    NaN\n",
       "Magnesium             2.500000\n",
       "Phosphate             4.400000\n",
       "Potassium             5.100000\n",
       "Bilirubin_total            NaN\n",
       "TroponinI                  NaN\n",
       "Hct                  27.800000\n",
       "Hgb                   9.700000\n",
       "PTT                        NaN\n",
       "WBC                  11.000000\n",
       "Fibrinogen                 NaN\n",
       "Platelets           158.000000\n",
       "dtype: float64"
      ]
     },
     "execution_count": 89,
     "metadata": {},
     "output_type": "execute_result"
    }
   ],
   "source": [
    "# print(example_df.SepsisLabel.sum())\n",
    "# print(example_df.shape)\n",
    "# print(example_df.shape[0] - example_df.SepsisLabel.sum())\n",
    "# print(example_df.loc[example_df.shape[0] - example_df.SepsisLabel.sum() - 1 , 'SepsisLabel'])\n",
    "\n",
    "# first_row = example_df.shape[0] - example_df.SepsisLabel.sum() \n",
    "\n",
    "# example_df.iloc[:first_row].count()/ example_df.iloc[:first_row].shape[0]\n",
    "example_df.mean()[:-7]\n",
    "\n"
   ]
  },
  {
   "attachments": {},
   "cell_type": "markdown",
   "metadata": {},
   "source": [
    "We note two demographic features, age and gender.\n",
    "We note 4 features that tell us about the patients medical circumstances, which unit (unit1 and unit2), when the patient was admitted (HospAdmTime) and how long the patient stayed (ICULOS)"
   ]
  },
  {
   "cell_type": "code",
   "execution_count": 26,
   "metadata": {},
   "outputs": [
    {
     "data": {
      "text/plain": [
       "Index(['HR', 'O2Sat', 'Temp', 'SBP', 'MAP', 'DBP', 'Resp', 'EtCO2',\n",
       "       'BaseExcess', 'HCO3', 'FiO2', 'pH', 'PaCO2', 'SaO2', 'AST', 'BUN',\n",
       "       'Alkalinephos', 'Calcium', 'Chloride', 'Creatinine', 'Bilirubin_direct',\n",
       "       'Glucose', 'Lactate', 'Magnesium', 'Phosphate', 'Potassium',\n",
       "       'Bilirubin_total', 'TroponinI', 'Hct', 'Hgb', 'PTT', 'WBC',\n",
       "       'Fibrinogen', 'Platelets', 'Age', 'Gender', 'Unit1', 'Unit2',\n",
       "       'HospAdmTime', 'ICULOS', 'SepsisLabel'],\n",
       "      dtype='object')"
      ]
     },
     "execution_count": 26,
     "metadata": {},
     "output_type": "execute_result"
    }
   ],
   "source": [
    "example_df.columns"
   ]
  },
  {
   "attachments": {},
   "cell_type": "markdown",
   "metadata": {},
   "source": [
    "We will note that most of our data seems to be continuous with 4 categorical features (the last categorical feature is the sepsis label)"
   ]
  },
  {
   "cell_type": "code",
   "execution_count": 66,
   "metadata": {},
   "outputs": [
    {
     "name": "stdout",
     "output_type": "stream",
     "text": [
      "float64\n",
      "36\n",
      "int64\n",
      "5\n"
     ]
    }
   ],
   "source": [
    "for data_type in example_df.dtypes.unique():\n",
    "    print(str(data_type))\n",
    "    print((example_df.dtypes == data_type).sum())"
   ]
  },
  {
   "attachments": {},
   "cell_type": "markdown",
   "metadata": {},
   "source": [
    "For further analysis, we will create dictionaries for the sepsis and non-sepsis population. We will run tests over these dictionaries."
   ]
  },
  {
   "cell_type": "code",
   "execution_count": 33,
   "metadata": {},
   "outputs": [],
   "source": [
    "sepsis_dict = dict()\n",
    "non_sepsis_dict = dict()"
   ]
  },
  {
   "cell_type": "code",
   "execution_count": 90,
   "metadata": {},
   "outputs": [],
   "source": [
    "\n",
    "for file in glob(train_dir + '/patient_*.psv'):\n",
    "    temp_df = pd.read_csv(file, sep='|')\n",
    "    # get patient ID\n",
    "    patient_ID = file[ file.find(\"_\")+1 : file.find(\".\") ]\n",
    "    if  temp_df.SepsisLabel.sum() > 0:\n",
    "        first_sepsis_row = temp_df.shape[0] - temp_df.SepsisLabel.sum()\n",
    "        sepsis_dict[patient_ID] = dict()\n",
    "        sepsis_dict[patient_ID]['age'] = temp_df.loc[0, 'Age']\n",
    "        sepsis_dict[patient_ID]['gender'] = temp_df.loc[0, 'Gender']\n",
    "        sepsis_dict[patient_ID]['unit'] = 1 if temp_df.loc[0, 'Unit1'] == 1 else 2 if temp_df.loc[0, 'Unit2'] == 1 else np.nan\n",
    "        sepsis_dict[patient_ID]['HospAdmTime'] = temp_df.loc[0, 'HospAdmTime']\n",
    "\n",
    "        sepsis_dict[patient_ID]['Sepsis ICULOS'] = temp_df.loc[first_sepsis_row, 'ICULOS']\n",
    "        sepsis_dict[patient_ID]['Final ICULOS'] = temp_df.loc[temp_df.shape[0]-1, 'ICULOS']\n",
    "\n",
    "        sepsis_dict[patient_ID]['Null Percentages'] = temp_df.iloc[:first_sepsis_row, :].count() / temp_df.iloc[:first_sepsis_row, :].shape[0]\n",
    "        sepsis_dict[patient_ID]['Means'] = temp_df.iloc[:first_sepsis_row, :].mean()[:-7]\n",
    "        sepsis_dict[patient_ID]['Vars'] = temp_df.iloc[:first_sepsis_row, :].var()[:-7]\n",
    "    else:\n",
    "        non_sepsis_dict[patient_ID] = dict()\n",
    "        non_sepsis_dict[patient_ID]['age'] = temp_df.loc[0, 'Age']\n",
    "        non_sepsis_dict[patient_ID]['gender'] = temp_df.loc[0, 'Gender']\n",
    "        non_sepsis_dict[patient_ID]['unit'] = 1 if temp_df.loc[0, 'Unit1'] == 1 else 2 if temp_df.loc[0, 'Unit2'] == 1 else np.nan\n",
    "        non_sepsis_dict[patient_ID]['HospAdmTime'] = temp_df.loc[0, 'HospAdmTime']\n",
    "        \n",
    "        non_sepsis_dict[patient_ID]['Final ICULOS'] = temp_df.loc[temp_df.shape[0]-1, 'ICULOS']\n",
    "\n",
    "        non_sepsis_dict[patient_ID]['Null Percentages'] = temp_df.count() / temp_df.shape[0]\n",
    "        non_sepsis_dict[patient_ID]['Means'] = temp_df.mean()[:-7]\n",
    "        non_sepsis_dict[patient_ID]['Vars'] = temp_df.var()[:-7]"
   ]
  },
  {
   "cell_type": "code",
   "execution_count": 36,
   "metadata": {},
   "outputs": [
    {
     "name": "stdout",
     "output_type": "stream",
     "text": [
      "Propensity: 0.07613666935700834\n",
      "Sepsis patients: 1415\n",
      "Patients with no record of sepsis: 18585\n",
      "Total cohort: 20000\n"
     ]
    }
   ],
   "source": [
    "print(f'Propensity: {len(sepsis_dict) / len(non_sepsis_dict)}')\n",
    "print(f'Sepsis patients: {len(sepsis_dict)}')\n",
    "print(f'Patients with no record of sepsis: {len(non_sepsis_dict)}')\n",
    "print(f'Total cohort: {len(sepsis_dict) + len(non_sepsis_dict)}')"
   ]
  },
  {
   "cell_type": "code",
   "execution_count": 119,
   "metadata": {},
   "outputs": [
    {
     "data": {
      "text/html": [
       "<div>\n",
       "<style scoped>\n",
       "    .dataframe tbody tr th:only-of-type {\n",
       "        vertical-align: middle;\n",
       "    }\n",
       "\n",
       "    .dataframe tbody tr th {\n",
       "        vertical-align: top;\n",
       "    }\n",
       "\n",
       "    .dataframe thead th {\n",
       "        text-align: right;\n",
       "    }\n",
       "</style>\n",
       "<table border=\"1\" class=\"dataframe\">\n",
       "  <thead>\n",
       "    <tr style=\"text-align: right;\">\n",
       "      <th></th>\n",
       "      <th>age</th>\n",
       "      <th>gender</th>\n",
       "      <th>unit</th>\n",
       "      <th>HospAdmTime</th>\n",
       "      <th>Sepsis ICULOS</th>\n",
       "      <th>Final ICULOS</th>\n",
       "      <th>Sepsis</th>\n",
       "    </tr>\n",
       "  </thead>\n",
       "  <tbody>\n",
       "    <tr>\n",
       "      <th>1</th>\n",
       "      <td>65.79</td>\n",
       "      <td>1</td>\n",
       "      <td>NaN</td>\n",
       "      <td>-0.02</td>\n",
       "      <td>26.0</td>\n",
       "      <td>35</td>\n",
       "      <td>1</td>\n",
       "    </tr>\n",
       "    <tr>\n",
       "      <th>10007</th>\n",
       "      <td>73.00</td>\n",
       "      <td>0</td>\n",
       "      <td>1.0</td>\n",
       "      <td>-7.08</td>\n",
       "      <td>34.0</td>\n",
       "      <td>43</td>\n",
       "      <td>1</td>\n",
       "    </tr>\n",
       "    <tr>\n",
       "      <th>10027</th>\n",
       "      <td>64.00</td>\n",
       "      <td>0</td>\n",
       "      <td>NaN</td>\n",
       "      <td>0.00</td>\n",
       "      <td>203.0</td>\n",
       "      <td>212</td>\n",
       "      <td>1</td>\n",
       "    </tr>\n",
       "    <tr>\n",
       "      <th>1003</th>\n",
       "      <td>34.00</td>\n",
       "      <td>1</td>\n",
       "      <td>2.0</td>\n",
       "      <td>-11.69</td>\n",
       "      <td>6.0</td>\n",
       "      <td>15</td>\n",
       "      <td>1</td>\n",
       "    </tr>\n",
       "    <tr>\n",
       "      <th>10089</th>\n",
       "      <td>49.00</td>\n",
       "      <td>1</td>\n",
       "      <td>2.0</td>\n",
       "      <td>-26.24</td>\n",
       "      <td>139.0</td>\n",
       "      <td>148</td>\n",
       "      <td>1</td>\n",
       "    </tr>\n",
       "  </tbody>\n",
       "</table>\n",
       "</div>"
      ],
      "text/plain": [
       "         age  gender  unit  HospAdmTime  Sepsis ICULOS  Final ICULOS  Sepsis\n",
       "1      65.79       1   NaN        -0.02           26.0            35       1\n",
       "10007  73.00       0   1.0        -7.08           34.0            43       1\n",
       "10027  64.00       0   NaN         0.00          203.0           212       1\n",
       "1003   34.00       1   2.0       -11.69            6.0            15       1\n",
       "10089  49.00       1   2.0       -26.24          139.0           148       1"
      ]
     },
     "execution_count": 119,
     "metadata": {},
     "output_type": "execute_result"
    }
   ],
   "source": [
    "sepsis_df = pd.DataFrame.from_dict(data=sepsis_dict, orient='index').drop(columns=['Null Percentages', 'Means', 'Vars'])\n",
    "sepsis_df['Sepsis'] = 1\n",
    "non_sepsis_df = pd.DataFrame.from_dict(data=non_sepsis_dict, orient='index').drop(columns=['Null Percentages', 'Means', 'Vars'])\n",
    "non_sepsis_df['Sepsis'] = 0\n",
    "all_df = pd.concat([sepsis_df, non_sepsis_df])\n",
    "all_df.head()"
   ]
  },
  {
   "cell_type": "code",
   "execution_count": 121,
   "metadata": {},
   "outputs": [
    {
     "data": {
      "text/html": [
       "<div>\n",
       "<style scoped>\n",
       "    .dataframe tbody tr th:only-of-type {\n",
       "        vertical-align: middle;\n",
       "    }\n",
       "\n",
       "    .dataframe tbody tr th {\n",
       "        vertical-align: top;\n",
       "    }\n",
       "\n",
       "    .dataframe thead th {\n",
       "        text-align: right;\n",
       "    }\n",
       "</style>\n",
       "<table border=\"1\" class=\"dataframe\">\n",
       "  <thead>\n",
       "    <tr style=\"text-align: right;\">\n",
       "      <th></th>\n",
       "      <th>age</th>\n",
       "      <th>gender</th>\n",
       "      <th>unit</th>\n",
       "      <th>HospAdmTime</th>\n",
       "      <th>Sepsis ICULOS</th>\n",
       "      <th>Final ICULOS</th>\n",
       "      <th>Sepsis</th>\n",
       "      <th>unit1</th>\n",
       "      <th>unit2</th>\n",
       "    </tr>\n",
       "  </thead>\n",
       "  <tbody>\n",
       "    <tr>\n",
       "      <th>0</th>\n",
       "      <td>62.250940</td>\n",
       "      <td>0.580919</td>\n",
       "      <td>1.405405</td>\n",
       "      <td>-74.686587</td>\n",
       "      <td>50.504594</td>\n",
       "      <td>59.032509</td>\n",
       "      <td>1.0</td>\n",
       "      <td>0.326502</td>\n",
       "      <td>0.222615</td>\n",
       "    </tr>\n",
       "    <tr>\n",
       "      <th>1</th>\n",
       "      <td>61.623673</td>\n",
       "      <td>0.553565</td>\n",
       "      <td>1.513305</td>\n",
       "      <td>-49.169890</td>\n",
       "      <td>NaN</td>\n",
       "      <td>37.301157</td>\n",
       "      <td>0.0</td>\n",
       "      <td>0.302125</td>\n",
       "      <td>0.318644</td>\n",
       "    </tr>\n",
       "  </tbody>\n",
       "</table>\n",
       "</div>"
      ],
      "text/plain": [
       "         age    gender      unit  HospAdmTime  Sepsis ICULOS  Final ICULOS  \\\n",
       "0  62.250940  0.580919  1.405405   -74.686587      50.504594     59.032509   \n",
       "1  61.623673  0.553565  1.513305   -49.169890            NaN     37.301157   \n",
       "\n",
       "   Sepsis     unit1     unit2  \n",
       "0     1.0  0.326502  0.222615  \n",
       "1     0.0  0.302125  0.318644  "
      ]
     },
     "execution_count": 121,
     "metadata": {},
     "output_type": "execute_result"
    }
   ],
   "source": [
    "sepsis_df.head()\n",
    "sepsis_summary_table = sepsis_df.mean()\n",
    "sepsis_summary_table['unit1'] = (sepsis_df.unit == 1).mean()\n",
    "sepsis_summary_table['unit2'] = (sepsis_df.unit == 2).mean()\n",
    "non_sepsis_summary_table = non_sepsis_df.mean()\n",
    "non_sepsis_summary_table['unit1'] = (non_sepsis_df.unit == 1).mean()\n",
    "non_sepsis_summary_table['unit2'] = (non_sepsis_df.unit == 2).mean()\n",
    "summary_table = pd.concat([sepsis_summary_table, non_sepsis_summary_table], axis=1).transpose()\n",
    "summary_table"
   ]
  },
  {
   "cell_type": "code",
   "execution_count": 129,
   "metadata": {},
   "outputs": [
    {
     "name": "stdout",
     "output_type": "stream",
     "text": [
      "822\n",
      "10288\n",
      "593\n",
      "8297\n"
     ]
    }
   ],
   "source": [
    "print()\n",
    "print()\n",
    "print()\n",
    "print()"
   ]
  },
  {
   "attachments": {},
   "cell_type": "markdown",
   "metadata": {},
   "source": [
    "We find that gender is correlated to Sepsis at a p-value of 0.049. Based on the literature, men are more succeptible to sepsis and we find that to be the case here."
   ]
  },
  {
   "cell_type": "code",
   "execution_count": 137,
   "metadata": {},
   "outputs": [
    {
     "name": "stdout",
     "output_type": "stream",
     "text": [
      "[[822, 10288], [593, 8297]]\n",
      "0.04902474059626093\n",
      "0.07398739873987399 % of men (n=11110) with sepsis vs. 0.06670416197975253% women (n=8890) with sepsis in data\n"
     ]
    }
   ],
   "source": [
    "gender_data = [[((all_df.gender == 1) & (all_df.Sepsis == 1)).sum(), ((all_df.gender == 1) & (all_df.Sepsis == 0)).sum()], \n",
    "               [((all_df.gender == 0) & (all_df.Sepsis == 1)).sum(), ((all_df.gender == 0) & (all_df.Sepsis == 0)).sum()]]\n",
    "print(gender_data)\n",
    "stat, p, dof, expected = chi2_contingency(gender_data)\n",
    "print(p)\n",
    "print(f'{((all_df.gender == 1) & (all_df.Sepsis == 1)).sum()/(all_df.gender == 1).sum()} % of men (n={(all_df.gender == 1).sum()}) with sepsis vs. {((all_df.gender == 0) & (all_df.Sepsis == 1)).sum()/(all_df.gender == 0).sum()}% women (n={(all_df.gender == 0).sum()}) with sepsis in data')\n"
   ]
  },
  {
   "attachments": {},
   "cell_type": "markdown",
   "metadata": {},
   "source": [
    "We look at which unit the patients were treated and find that at a very significant level unit is correlated to sepsis. It is likely that unit 1 treats more ill patients. However, we will note that this information is often lacking."
   ]
  },
  {
   "cell_type": "code",
   "execution_count": 138,
   "metadata": {},
   "outputs": [
    {
     "name": "stdout",
     "output_type": "stream",
     "text": [
      "7.212712069706973e-09\n",
      "0.07602435412209972 % of unit1 (n=6077) with sepsis vs. 0.050505050505050504% unit2 (n=6237) with sepsis in data\n"
     ]
    }
   ],
   "source": [
    "unit_data = [[((all_df.unit == 1) & (all_df.Sepsis == 1)).sum(), ((all_df.unit == 1) & (all_df.Sepsis == 0)).sum()], \n",
    "               [((all_df.unit == 2) & (all_df.Sepsis == 1)).sum(), ((all_df.unit == 2) & (all_df.Sepsis == 0)).sum()]]\n",
    "stat, p, dof, expected = chi2_contingency(unit_data)\n",
    "print(p)\n",
    "print(f'{((all_df.unit == 1) & (all_df.Sepsis == 1)).sum()/(all_df.unit == 1).sum()} % of unit1 (n={(all_df.unit == 1).sum()}) with sepsis vs. {((all_df.unit == 2) & (all_df.Sepsis == 1)).sum()/(all_df.unit == 2).sum()}% unit2 (n={(all_df.unit == 2).sum()}) with sepsis in data')\n"
   ]
  }
 ],
 "metadata": {
  "kernelspec": {
   "display_name": "HW1",
   "language": "python",
   "name": "python3"
  },
  "language_info": {
   "codemirror_mode": {
    "name": "ipython",
    "version": 3
   },
   "file_extension": ".py",
   "mimetype": "text/x-python",
   "name": "python",
   "nbconvert_exporter": "python",
   "pygments_lexer": "ipython3",
   "version": "3.11.3"
  },
  "orig_nbformat": 4
 },
 "nbformat": 4,
 "nbformat_minor": 2
}
