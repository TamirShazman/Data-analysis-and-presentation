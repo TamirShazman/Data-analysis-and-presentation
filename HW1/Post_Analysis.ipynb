{
 "cells": [
  {
   "cell_type": "code",
   "execution_count": 11,
   "metadata": {},
   "outputs": [],
   "source": [
    "import pandas as pd\n",
    "import torch\n",
    "from sklearn.metrics import f1_score\n",
    "import seaborn as sns\n",
    "import models\n",
    "import importlib\n",
    "importlib.reload(models)\n",
    "\n",
    "from models import LSTMNet, LSTMDataset, predict, post_analysis, post_analysis_subgroups\n",
    "import importlib"
   ]
  },
  {
   "cell_type": "code",
   "execution_count": 1,
   "metadata": {},
   "outputs": [],
   "source": [
    "training_data_path = 'train_data_with_na.pkl'\n",
    "test_data_path = 'test_data_with_na.pkl'"
   ]
  },
  {
   "cell_type": "code",
   "execution_count": 3,
   "metadata": {},
   "outputs": [
    {
     "name": "stderr",
     "output_type": "stream",
     "text": [
      "/tmp/ipykernel_577815/1463548971.py:6: FutureWarning: The default value of numeric_only in DataFrame.mean is deprecated. In a future version, it will default to False. In addition, specifying 'numeric_only=None' is deprecated. Select only valid columns or specify the value of numeric_only to silence this warning.\n",
      "  df_train = df_train.fillna(df_train.mean())\n",
      "/tmp/ipykernel_577815/1463548971.py:7: FutureWarning: The default value of numeric_only in DataFrame.mean is deprecated. In a future version, it will default to False. In addition, specifying 'numeric_only=None' is deprecated. Select only valid columns or specify the value of numeric_only to silence this warning.\n",
      "  df_test = df_test.fillna(df_train.mean())\n"
     ]
    }
   ],
   "source": [
    "# load the files\n",
    "df_train = pd.read_pickle(training_data_path)\n",
    "df_test = pd.read_pickle(test_data_path)\n",
    "\n",
    "#complete na values\n",
    "df_train = df_train.fillna(df_train.mean())\n",
    "df_test = df_test.fillna(df_train.mean())"
   ]
  },
  {
   "cell_type": "code",
   "execution_count": 4,
   "metadata": {},
   "outputs": [
    {
     "data": {
      "text/plain": [
       "<All keys matched successfully>"
      ]
     },
     "execution_count": 4,
     "metadata": {},
     "output_type": "execute_result"
    }
   ],
   "source": [
    "model_concat = LSTMNet(type='concat')\n",
    "model_concat.load_state_dict(torch.load('/home/student/Data-analysis-and-presentation/HW1/weights/concat_0.69.pt'))"
   ]
  },
  {
   "attachments": {},
   "cell_type": "markdown",
   "metadata": {},
   "source": [
    "## Post Analysis"
   ]
  },
  {
   "attachments": {},
   "cell_type": "markdown",
   "metadata": {},
   "source": [
    "In order to check which features are important we'll blank selected features (set all of thier values to 0) and check the F1 score afterwards "
   ]
  },
  {
   "cell_type": "code",
   "execution_count": 11,
   "metadata": {},
   "outputs": [
    {
     "data": {
      "text/plain": [
       "Index(['index', 'SepsisLabel', 'age', 'gender', 'unit1', 'unit2',\n",
       "       'unknown unit', 'HospAdmTime', 'Final ICULOS', 'HR_series',\n",
       "       'Resp_series', 'MAP_series', 'O2Sat_series', 'SBP_series', 'Temp_var',\n",
       "       'Temp_mean', 'WBC_not_null', 'WBC_mean', 'Lactate_not_null',\n",
       "       'BaseExcess_not_null'],\n",
       "      dtype='object')"
      ]
     },
     "execution_count": 11,
     "metadata": {},
     "output_type": "execute_result"
    }
   ],
   "source": [
    "test_ds.df.columns"
   ]
  },
  {
   "cell_type": "code",
   "execution_count": 5,
   "metadata": {},
   "outputs": [],
   "source": [
    "test_ds = LSTMDataset(df_test.sample(2000))"
   ]
  },
  {
   "cell_type": "code",
   "execution_count": 15,
   "metadata": {},
   "outputs": [
    {
     "data": {
      "text/plain": [
       "<seaborn.axisgrid.FacetGrid at 0x7f3da6c12090>"
      ]
     },
     "execution_count": 15,
     "metadata": {},
     "output_type": "execute_result"
    },
    {
     "data": {
      "image/png": "[encoded data removed]",
      "text/plain": [
       "<Figure size 500x500 with 1 Axes>"
      ]
     },
     "metadata": {},
     "output_type": "display_data"
    }
   ],
   "source": [
    "sns.displot(test_ds.df, x=\"Temp_mean\")"
   ]
  },
  {
   "cell_type": "code",
   "execution_count": 11,
   "metadata": {},
   "outputs": [
    {
     "data": {
      "text/plain": [
       "{'standart': 0.6551724137931035, 'after': 0.6493506493506492}"
      ]
     },
     "execution_count": 11,
     "metadata": {},
     "output_type": "execute_result"
    }
   ],
   "source": [
    "post_analysis(test_ds, 'Final ICULOS', model_concat, lambda x: max(x-30, 0), 'Final ICULOS')"
   ]
  },
  {
   "cell_type": "code",
   "execution_count": 18,
   "metadata": {},
   "outputs": [
    {
     "data": {
      "text/plain": [
       "{'standart': 0.6551724137931035, 'after': 0.6363636363636364}"
      ]
     },
     "execution_count": 18,
     "metadata": {},
     "output_type": "execute_result"
    }
   ],
   "source": [
    "post_analysis(test_ds, 'Temp_mean', model_concat, lambda x: x+3, 'Temp_mean')"
   ]
  },
  {
   "cell_type": "code",
   "execution_count": 18,
   "metadata": {},
   "outputs": [
    {
     "data": {
      "text/plain": [
       "{'standart': 0.6850393700787403, 'after': 0.6772908366533864}"
      ]
     },
     "execution_count": 18,
     "metadata": {},
     "output_type": "execute_result"
    }
   ],
   "source": [
    "post_analysis(test_ds, 'gender', model_concat, lambda x: 1 if x == 0 else 0, 'gender')"
   ]
  },
  {
   "cell_type": "code",
   "execution_count": 12,
   "metadata": {},
   "outputs": [
    {
     "data": {
      "text/plain": [
       "{'Men': 0.6981818181818181, 'Women': 0.660377358490566}"
      ]
     },
     "execution_count": 12,
     "metadata": {},
     "output_type": "execute_result"
    }
   ],
   "source": [
    "men_ds = LSTMDataset(df_test[df_test['gender'] == 1].sample(2000))\n",
    "women_ds = LSTMDataset(df_test[df_test['gender'] == 0].sample(2000))\n",
    "post_analysis_subgroups(ds1=men_ds, ds2=women_ds, model=model_concat, graph_name1='Men', graph_name2='Women')"
   ]
  },
  {
   "cell_type": "code",
   "execution_count": 13,
   "metadata": {},
   "outputs": [
    {
     "data": {
      "text/plain": [
       "{'unit1': 0.6355140186915887, 'unit2': 0.7358490566037735}"
      ]
     },
     "execution_count": 13,
     "metadata": {},
     "output_type": "execute_result"
    }
   ],
   "source": [
    "unit1_ds = LSTMDataset(df_test[df_test['unit1'] == 1].sample(1000))\n",
    "unit2_ds = LSTMDataset(df_test[df_test['unit2'] == 1].sample(1000))\n",
    "post_analysis_subgroups(ds1=unit1_ds, ds2=unit2_ds, model=model_concat, graph_name1='unit1', graph_name2='unit2')"
   ]
  },
  {
   "cell_type": "code",
   "execution_count": 15,
   "metadata": {},
   "outputs": [
    {
     "data": {
      "text/plain": [
       "{'with_unit': 0.6923076923076923, 'unknown_unit': 0.7435897435897436}"
      ]
     },
     "execution_count": 15,
     "metadata": {},
     "output_type": "execute_result"
    }
   ],
   "source": [
    "unit_ds = LSTMDataset(df_test[df_test['unknown unit'] == 0].sample(1000))\n",
    "no_unit_ds = LSTMDataset(df_test[df_test['unknown unit'] == 1].sample(1000))\n",
    "post_analysis_subgroups(ds1=unit_ds, ds2=no_unit_ds, model=model_concat, graph_name1='with_unit', graph_name2='unknown_unit')"
   ]
  }
 ],
 "metadata": {
  "kernelspec": {
   "display_name": "HW1",
   "language": "python",
   "name": "python3"
  },
  "language_info": {
   "codemirror_mode": {
    "name": "ipython",
    "version": 3
   },
   "file_extension": ".py",
   "mimetype": "text/x-python",
   "name": "python",
   "nbconvert_exporter": "python",
   "pygments_lexer": "ipython3",
   "version": "3.11.3"
  },
  "orig_nbformat": 4
 },
 "nbformat": 4,
 "nbformat_minor": 2
}
